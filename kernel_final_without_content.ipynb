{
 "cells": [
  {
   "cell_type": "markdown",
   "metadata": {
    "_uuid": "3391719387dffc78b7be37b1924700e6e4fb827d"
   },
   "source": [
    "This kernel contains **multyprocess implementation** of data loading and preprocessing for\n",
    "[Clap it - Exploratory Data Analysis](https://www.kaggle.com/jandevel/clap-it-exploratory-data-analysis) kernel\n",
    "It makes this operation several times faster.\n",
    "Take it as example that can be applied to other kernels as well"
   ]
  },
  {
   "cell_type": "markdown",
   "metadata": {
    "_cell_guid": "77fdaca8-e26a-4e6c-9259-659be6bb1b4b",
    "_uuid": "440a26d54c92a5cfef3265b409a7b96c261fcafc"
   },
   "source": [
    "# Introduction:\n",
    "What is Medium? Medium is a dynamically developing international publishing platform for people to write, read and clap easily online. It is like the russian [habrahabr.ru](http://habrahabr.ru) just a little worse. We have two JSON files that contain published articles on Medium till 2018, March. There is number of claps to each article in the first file and there is no ones in the second file. Our goal is to predict the number of \"claps\" for articles in test. \n",
    "Let's start our EDA journey!"
   ]
  },
  {
   "cell_type": "code",
   "execution_count": 1,
   "metadata": {
    "_cell_guid": "b1076dfc-b9ad-4769-8c92-a6c4dae69d19",
    "_uuid": "8f2839f25d086af736a60e9eeb907d3b93b6e0e5"
   },
   "outputs": [
    {
     "data": {
      "image/png": "[encoded data removed]",
      "text/plain": [
       "<Figure size 720x72 with 1 Axes>"
      ]
     },
     "metadata": {},
     "output_type": "display_data"
    }
   ],
   "source": [
    "import numpy as np\n",
    "import pandas as pd\n",
    "import json\n",
    "from sklearn.feature_extraction.text import CountVectorizer\n",
    "from sklearn.metrics import mean_absolute_error\n",
    "from sklearn.linear_model import Ridge\n",
    "from scipy.sparse import csr_matrix, hstack\n",
    "from scipy.stats import probplot\n",
    "import pickle\n",
    "import nltk, re\n",
    "from nltk.tokenize import sent_tokenize, word_tokenize\n",
    "from nltk.stem import PorterStemmer, WordNetLemmatizer\n",
    "from nltk.corpus import stopwords\n",
    "from bs4 import BeautifulSoup\n",
    "import matplotlib.pyplot as plt\n",
    "import matplotlib.gridspec as gridspec\n",
    "%matplotlib inline\n",
    "import seaborn as sns \n",
    "import gc\n",
    "import warnings\n",
    "warnings.filterwarnings('ignore')\n",
    "import time\n",
    "import lightgbm as lgb\n",
    "\n",
    "color = sns.color_palette()\n",
    "sns.set_style(\"whitegrid\")\n",
    "sns.set_context(\"paper\")\n",
    "sns.palplot(color)\n",
    "\n",
    "#import os\n",
    "#PATH = \"../input\""
   ]
  },
  {
   "cell_type": "code",
   "execution_count": 2,
   "metadata": {
    "_uuid": "b00efb7aaa1652b5454a3e0bef0ddbd922069e67"
   },
   "outputs": [],
   "source": [
    "from sklearn.feature_extraction.text import (CountVectorizer,\n",
    "                                             TfidfVectorizer)\n",
    "from sklearn.metrics import mean_absolute_error\n",
    "from sklearn.linear_model import (RidgeCV, Ridge)\n",
    "from sklearn.model_selection import (GridSearchCV, \n",
    "                                     cross_val_score,\n",
    "                                     train_test_split)\n",
    "from sklearn.preprocessing import StandardScaler\n",
    "from scipy.sparse import (csr_matrix, hstack)"
   ]
  },
  {
   "cell_type": "markdown",
   "metadata": {
    "_cell_guid": "711af372-cbe3-4b72-b8f4-8b07931dbb57",
    "_uuid": "3b9b29fd9fff6e4e3be16307df48f2d0d3dd8bd3"
   },
   "source": [
    "# 1. Data preprocessing\n",
    "## 1.1. Supplementary functions"
   ]
  },
  {
   "cell_type": "code",
   "execution_count": 3,
   "metadata": {
    "_cell_guid": "79c7e3d0-c299-4dcb-8224-4455121ee9b0",
    "_kg_hide-input": false,
    "_uuid": "d629ff2d2480ee46fbb7e2d37f6b5fab8052498a"
   },
   "outputs": [],
   "source": [
    "def read_json_line(line=None):\n",
    "    result = None\n",
    "    try:        \n",
    "        result = json.loads(line)\n",
    "    except Exception as e:      \n",
    "        # Find the offending character index:\n",
    "        idx_to_replace = int(str(e).split(' ')[-1].replace(')',''))      \n",
    "        # Remove the offending character:\n",
    "        new_line = list(line)\n",
    "        new_line[idx_to_replace] = ' '\n",
    "        new_line = ''.join(new_line)     \n",
    "        return read_json_line(line=new_line)\n",
    "    return result\n",
    "\n",
    "from html.parser import HTMLParser\n",
    "\n",
    "class MLStripper(HTMLParser):\n",
    "    def __init__(self):\n",
    "        self.reset()\n",
    "        self.strict = False\n",
    "        self.convert_charrefs= True\n",
    "        self.fed = []\n",
    "    def handle_data(self, d):\n",
    "        self.fed.append(d)\n",
    "    def get_data(self):\n",
    "        return ''.join(self.fed)\n",
    "\n",
    "def strip_tags(html):\n",
    "    s = MLStripper()\n",
    "    s.feed(html)\n",
    "    return s.get_data()"
   ]
  },
  {
   "cell_type": "markdown",
   "metadata": {
    "_uuid": "7c52a6bd0f41c2eadaddc67ecfe39dfcd7a8e645"
   },
   "source": [
    "**New multiprocess stuff starts here: ====================================================== ** "
   ]
  },
  {
   "cell_type": "code",
   "execution_count": 4,
   "metadata": {
    "_uuid": "9e64a95700331b0a144b250edff280daf4235a50"
   },
   "outputs": [],
   "source": [
    "from joblib import Parallel, delayed\n",
    "import multiprocessing\n",
    "from tqdm import tqdm_notebook\n",
    "     \n",
    "def process_line(line):\n",
    "    json_data = read_json_line(line)\n",
    "    content = json_data['content'].replace('\\n', ' ').replace('\\r', ' ')\n",
    "    #content_no_html_tags = strip_tags(content)\n",
    "    published = json_data['published']['$date']\n",
    "    title = json_data['meta_tags']['title'].split('\\u2013')[0].strip() #'Medium Terms of Service – Medium Policy – Medium'\n",
    "    author = json_data['meta_tags']['author'].strip()\n",
    "    domain = json_data['domain']\n",
    "    url = json_data['url']\n",
    "    reading_time = json_data['meta_tags']['twitter:data1']\n",
    "\n",
    "    tags_str = []\n",
    "    soup = BeautifulSoup(content, 'lxml')\n",
    "    try:\n",
    "        tag_block = soup.find('ul', class_='tags')\n",
    "        tags = tag_block.find_all('a')\n",
    "        for tag in tags:\n",
    "            tags_str.append(tag.text.translate({ord(' '):None, ord('-'):None}))\n",
    "        tags = ' '.join(tags_str)\n",
    "    except Exception:\n",
    "        tags = 'None'\n",
    "    return content, published, title, author, domain, tags, url, reading_time\n",
    " \n",
    "def extract_features(path_to_data):\n",
    "    \n",
    "    content_list = [] \n",
    "    published_list = [] \n",
    "    title_list = []\n",
    "    author_list = []\n",
    "    domain_list = []\n",
    "    tags_list = []\n",
    "    url_list = []\n",
    "    reading_time_list = []\n",
    "\n",
    "    with open(path_to_data, encoding='utf-8') as inp_json_file:\n",
    "        num_cores = multiprocessing.cpu_count()\n",
    "        results = Parallel(n_jobs=num_cores)(delayed(process_line)(line) for line in tqdm_notebook(inp_json_file))\n",
    "    return zip(*results) #content_list, published_list, title_list, author_list, domain_list, tags_list, url_list"
   ]
  },
  {
   "cell_type": "markdown",
   "metadata": {
    "_cell_guid": "06aa8abd-d199-478c-94a9-e285543a42a3",
    "_uuid": "69af89dd753639281213e6d772b2bb48eac20652"
   },
   "source": [
    "## 1.2. Data extraction"
   ]
  },
  {
   "cell_type": "code",
   "execution_count": 5,
   "metadata": {
    "_cell_guid": "26ae1dd4-b962-44d6-bf18-1e2e49453488",
    "_uuid": "2928c74776ff42cc91a38a2a687cbc9b6b40519c",
    "scrolled": true
   },
   "outputs": [
    {
     "data": {
      "application/vnd.jupyter.widget-view+json": {
       "model_id": "e79c67d509794341a85122e9bd57c4af",
       "version_major": 2,
       "version_minor": 0
      },
      "text/plain": [
       "HBox(children=(IntProgress(value=1, bar_style='info', max=1), HTML(value='')))"
      ]
     },
     "metadata": {},
     "output_type": "display_data"
    },
    {
     "name": "stdout",
     "output_type": "stream",
     "text": [
      "\n"
     ]
    }
   ],
   "source": [
    "content_train, published_list, title_list, author_list, domain_list, tags_list, url_list, reading_time_list = extract_features('train.json')\n",
    "train = pd.DataFrame()\n",
    "#train['content'] = content_train\n",
    "train['published'] = pd.to_datetime(published_list, format='%Y-%m-%dT%H:%M:%S.%fZ')\n",
    "train['title'] = title_list\n",
    "train['author'] = author_list\n",
    "train['domain'] = domain_list\n",
    "train['tags'] = tags_list\n",
    "train['length'] = list(map(len, content_train))\n",
    "train['url'] = url_list\n",
    "train['reading_time'] = reading_time_list\n"
   ]
  },
  {
   "cell_type": "code",
   "execution_count": 6,
   "metadata": {
    "_uuid": "29401c1172ec3a97bd7bc65a74f6969a7cd01d4a"
   },
   "outputs": [],
   "source": [
    "train_target = pd.read_csv('train_log1p_recommends.csv', index_col='id')\n",
    "y_train = train_target['log_recommends'].values"
   ]
  },
  {
   "cell_type": "code",
   "execution_count": 7,
   "metadata": {
    "_uuid": "c3586e93188c179beb7307ed0c73118655eedafa"
   },
   "outputs": [
    {
     "data": {
      "application/vnd.jupyter.widget-view+json": {
       "model_id": "ea624f2364594d408c1749d1ff7a3dd4",
       "version_major": 2,
       "version_minor": 0
      },
      "text/plain": [
       "HBox(children=(IntProgress(value=1, bar_style='info', max=1), HTML(value='')))"
      ]
     },
     "metadata": {},
     "output_type": "display_data"
    },
    {
     "name": "stdout",
     "output_type": "stream",
     "text": [
      "\n"
     ]
    },
    {
     "data": {
      "text/plain": [
       "382"
      ]
     },
     "execution_count": 7,
     "metadata": {},
     "output_type": "execute_result"
    }
   ],
   "source": [
    "content_test, published_list, title_list, author_list, domain_list, tags_list, url_list, reading_time_list = extract_features('test.json')\n",
    "test = pd.DataFrame()\n",
    "#test['content'] = content_test\n",
    "test['published'] = pd.to_datetime(published_list, format='%Y-%m-%dT%H:%M:%S.%fZ')\n",
    "test['title'] = title_list\n",
    "test['author'] = author_list\n",
    "test['domain'] = domain_list\n",
    "test['tags'] = tags_list\n",
    "test['length'] = list(map(len, content_test))\n",
    "test['url'] = url_list\n",
    "test['reading_time'] = reading_time_list\n",
    "\n",
    "del published_list, title_list, author_list, domain_list, tags_list, url_list, reading_time_list\n",
    "gc.collect()"
   ]
  },
  {
   "cell_type": "code",
   "execution_count": 8,
   "metadata": {
    "_uuid": "95443b0456b71c3e89931b8fb339574c55ff6068"
   },
   "outputs": [],
   "source": [
    "def get_contents(path_to_file):\n",
    "    contents = list()\n",
    "    with open(path_to_file, encoding='utf-8') as inp_json_file:\n",
    "        for line in inp_json_file:\n",
    "            json_data = read_json_line(line)\n",
    "            content = json_data['content']  \n",
    "            contents.append(content)\n",
    "    return contents"
   ]
  },
  {
   "cell_type": "markdown",
   "metadata": {
    "_uuid": "0cb8dbfd434b7c583922a8031cbabf9115cd2f31"
   },
   "source": [
    "**New mutiprocess stuff ends here: ====================================================== **    \n",
    "Take into account that where is no train['content'] and test['content'] columns more,   \n",
    "but only content_train and content_test listsaaa"
   ]
  },
  {
   "cell_type": "markdown",
   "metadata": {
    "_cell_guid": "1a291341-248a-4bb3-9ea2-16862a52c92e",
    "_uuid": "ddea81f54a5c84003304854959b1850414928c3f"
   },
   "source": [
    "## 1.3. Feature engineering"
   ]
  },
  {
   "cell_type": "code",
   "execution_count": 9,
   "metadata": {
    "_cell_guid": "edd89bc9-cb0f-4244-9cd9-d6bb03ddc1fb",
    "_uuid": "4718fa8fcdacd716a72f9dba5daa12708968d8c7"
   },
   "outputs": [
    {
     "name": "stdout",
     "output_type": "stream",
     "text": [
      "TRAIN: (62313, 14)\n",
      "TEST: (34645, 13)\n"
     ]
    },
    {
     "data": {
      "text/plain": [
       "0"
      ]
     },
     "execution_count": 9,
     "metadata": {},
     "output_type": "execute_result"
    }
   ],
   "source": [
    "idx_split = len(train)\n",
    "df_full = pd.concat([train, test])\n",
    "\n",
    "df_full['dow'] = df_full['published'].apply(lambda x: x.dayofweek)\n",
    "df_full['year'] = df_full['published'].apply(lambda x: x.year)\n",
    "df_full['month'] = df_full['published'].apply(lambda x: x.month)\n",
    "df_full['hour'] = df_full['published'].apply(lambda x: x.hour)\n",
    "df_full['number_of_tags'] = df_full['tags'].apply(lambda x: len(x.split()))\n",
    "df_full['reading_time'] = df_full['reading_time'].apply(lambda x: x.split()[0]).astype('int')\n",
    "\n",
    "train = df_full.iloc[:idx_split, :]\n",
    "test = df_full.iloc[idx_split:, :]\n",
    "\n",
    "train['target'] = y_train\n",
    "train.sort_values(by='published', inplace=True)\n",
    "train.reset_index(drop=True, inplace=True)\n",
    "\n",
    "print('TRAIN: {}'.format(train.shape))\n",
    "print('TEST: {}'.format(test.shape))\n",
    "del df_full\n",
    "gc.collect()"
   ]
  },
  {
   "cell_type": "markdown",
   "metadata": {
    "_cell_guid": "9049dd3b-cab1-48b7-af97-2cbeff8ffb72",
    "_uuid": "8028e493108552fe543c8415dfd735eda94ddd9a"
   },
   "source": [
    "The train data contains 62313 articles and the test one contains 34645.\n",
    "Let us look at the data a little closer."
   ]
  },
  {
   "cell_type": "markdown",
   "metadata": {
    "_cell_guid": "da818888-f782-406c-9fb3-6284c84bfccb",
    "_uuid": "6f48fd2225c752b98ad4a0b0cddcad9d2aed287b"
   },
   "source": [
    "# 2. EDA\n",
    "The five earliest articles on Medium:"
   ]
  },
  {
   "cell_type": "code",
   "execution_count": 10,
   "metadata": {
    "_cell_guid": "4e0f9c06-4c82-406e-8c24-70734bbd95df",
    "_uuid": "5efafcfe4fd358d7058df272443f8b350ebf02ef"
   },
   "outputs": [
    {
     "data": {
      "text/html": [
       "<div>\n",
       "<style scoped>\n",
       "    .dataframe tbody tr th:only-of-type {\n",
       "        vertical-align: middle;\n",
       "    }\n",
       "\n",
       "    .dataframe tbody tr th {\n",
       "        vertical-align: top;\n",
       "    }\n",
       "\n",
       "    .dataframe thead th {\n",
       "        text-align: right;\n",
       "    }\n",
       "</style>\n",
       "<table border=\"1\" class=\"dataframe\">\n",
       "  <thead>\n",
       "    <tr style=\"text-align: right;\">\n",
       "      <th></th>\n",
       "      <th>published</th>\n",
       "      <th>title</th>\n",
       "      <th>author</th>\n",
       "      <th>domain</th>\n",
       "      <th>tags</th>\n",
       "      <th>length</th>\n",
       "      <th>url</th>\n",
       "      <th>reading_time</th>\n",
       "      <th>dow</th>\n",
       "      <th>year</th>\n",
       "      <th>month</th>\n",
       "      <th>hour</th>\n",
       "      <th>number_of_tags</th>\n",
       "      <th>target</th>\n",
       "    </tr>\n",
       "  </thead>\n",
       "  <tbody>\n",
       "    <tr>\n",
       "      <th>0</th>\n",
       "      <td>1970-01-01 00:00:00.001</td>\n",
       "      <td>Saving Your Marriage By Watching Steamy Sex Ed...</td>\n",
       "      <td>Susan Bratton</td>\n",
       "      <td>medium.com</td>\n",
       "      <td>Lovemaking Sex SexPositions EarlyBird SexEdVideos</td>\n",
       "      <td>22062</td>\n",
       "      <td>http://personallifemedia.com/2017/01/saving-ma...</td>\n",
       "      <td>5</td>\n",
       "      <td>3</td>\n",
       "      <td>1970</td>\n",
       "      <td>1</td>\n",
       "      <td>0</td>\n",
       "      <td>5</td>\n",
       "      <td>1.09861</td>\n",
       "    </tr>\n",
       "    <tr>\n",
       "      <th>1</th>\n",
       "      <td>1970-01-01 00:00:00.001</td>\n",
       "      <td>やってよかった中学受験</td>\n",
       "      <td>Ryo Ooishi</td>\n",
       "      <td>medium.com</td>\n",
       "      <td></td>\n",
       "      <td>17958</td>\n",
       "      <td>https://medium.com/@ooishi/%E3%82%84%E3%81%A3%...</td>\n",
       "      <td>11</td>\n",
       "      <td>3</td>\n",
       "      <td>1970</td>\n",
       "      <td>1</td>\n",
       "      <td>0</td>\n",
       "      <td>0</td>\n",
       "      <td>2.56495</td>\n",
       "    </tr>\n",
       "    <tr>\n",
       "      <th>2</th>\n",
       "      <td>1970-01-18 03:21:32.400</td>\n",
       "      <td>はてなブログに書いた今年の手帳のお話</td>\n",
       "      <td>なぞちゅう</td>\n",
       "      <td>medium.com</td>\n",
       "      <td>徒然日記 手帳 ブログ</td>\n",
       "      <td>18680</td>\n",
       "      <td>http://nazoblackrx.hatenablog.com/entry/2016/1...</td>\n",
       "      <td>5</td>\n",
       "      <td>6</td>\n",
       "      <td>1970</td>\n",
       "      <td>1</td>\n",
       "      <td>3</td>\n",
       "      <td>3</td>\n",
       "      <td>0.69315</td>\n",
       "    </tr>\n",
       "    <tr>\n",
       "      <th>3</th>\n",
       "      <td>1987-12-08 21:45:00.000</td>\n",
       "      <td>Internet Corporation LLC to Acquire Early Clue...</td>\n",
       "      <td>Internet Corporation LLC</td>\n",
       "      <td>medium.com</td>\n",
       "      <td>SocialMedia EarlyClues InternetCorporationLlc</td>\n",
       "      <td>30480</td>\n",
       "      <td>https://medium.com/the-internet-corporation/de...</td>\n",
       "      <td>8</td>\n",
       "      <td>1</td>\n",
       "      <td>1987</td>\n",
       "      <td>12</td>\n",
       "      <td>21</td>\n",
       "      <td>3</td>\n",
       "      <td>1.09861</td>\n",
       "    </tr>\n",
       "    <tr>\n",
       "      <th>4</th>\n",
       "      <td>2003-12-29 17:00:00.000</td>\n",
       "      <td>g sowtwaretrading botMoneyMoneyMakeGetting To ...</td>\n",
       "      <td>Mackenzie Oldridge</td>\n",
       "      <td>medium.com</td>\n",
       "      <td>Finance Trading</td>\n",
       "      <td>24725</td>\n",
       "      <td>http://www.investopedia.com/articles/optioninv...</td>\n",
       "      <td>9</td>\n",
       "      <td>0</td>\n",
       "      <td>2003</td>\n",
       "      <td>12</td>\n",
       "      <td>17</td>\n",
       "      <td>2</td>\n",
       "      <td>3.52636</td>\n",
       "    </tr>\n",
       "  </tbody>\n",
       "</table>\n",
       "</div>"
      ],
      "text/plain": [
       "                published                                              title  \\\n",
       "0 1970-01-01 00:00:00.001  Saving Your Marriage By Watching Steamy Sex Ed...   \n",
       "1 1970-01-01 00:00:00.001                                        やってよかった中学受験   \n",
       "2 1970-01-18 03:21:32.400                                 はてなブログに書いた今年の手帳のお話   \n",
       "3 1987-12-08 21:45:00.000  Internet Corporation LLC to Acquire Early Clue...   \n",
       "4 2003-12-29 17:00:00.000  g sowtwaretrading botMoneyMoneyMakeGetting To ...   \n",
       "\n",
       "                     author      domain  \\\n",
       "0             Susan Bratton  medium.com   \n",
       "1                Ryo Ooishi  medium.com   \n",
       "2                     なぞちゅう  medium.com   \n",
       "3  Internet Corporation LLC  medium.com   \n",
       "4        Mackenzie Oldridge  medium.com   \n",
       "\n",
       "                                                tags  length  \\\n",
       "0  Lovemaking Sex SexPositions EarlyBird SexEdVideos   22062   \n",
       "1                                                      17958   \n",
       "2                                        徒然日記 手帳 ブログ   18680   \n",
       "3      SocialMedia EarlyClues InternetCorporationLlc   30480   \n",
       "4                                    Finance Trading   24725   \n",
       "\n",
       "                                                 url  reading_time  dow  year  \\\n",
       "0  http://personallifemedia.com/2017/01/saving-ma...             5    3  1970   \n",
       "1  https://medium.com/@ooishi/%E3%82%84%E3%81%A3%...            11    3  1970   \n",
       "2  http://nazoblackrx.hatenablog.com/entry/2016/1...             5    6  1970   \n",
       "3  https://medium.com/the-internet-corporation/de...             8    1  1987   \n",
       "4  http://www.investopedia.com/articles/optioninv...             9    0  2003   \n",
       "\n",
       "   month  hour  number_of_tags   target  \n",
       "0      1     0               5  1.09861  \n",
       "1      1     0               0  2.56495  \n",
       "2      1     3               3  0.69315  \n",
       "3     12    21               3  1.09861  \n",
       "4     12    17               2  3.52636  "
      ]
     },
     "execution_count": 10,
     "metadata": {},
     "output_type": "execute_result"
    }
   ],
   "source": [
    "train.head()"
   ]
  },
  {
   "cell_type": "code",
   "execution_count": 11,
   "metadata": {
    "_uuid": "f514ae1717356b4b2d638252febb94270bb805b2"
   },
   "outputs": [
    {
     "data": {
      "text/html": [
       "<div>\n",
       "<style scoped>\n",
       "    .dataframe tbody tr th:only-of-type {\n",
       "        vertical-align: middle;\n",
       "    }\n",
       "\n",
       "    .dataframe tbody tr th {\n",
       "        vertical-align: top;\n",
       "    }\n",
       "\n",
       "    .dataframe thead th {\n",
       "        text-align: right;\n",
       "    }\n",
       "</style>\n",
       "<table border=\"1\" class=\"dataframe\">\n",
       "  <thead>\n",
       "    <tr style=\"text-align: right;\">\n",
       "      <th></th>\n",
       "      <th>published</th>\n",
       "      <th>title</th>\n",
       "      <th>author</th>\n",
       "      <th>domain</th>\n",
       "      <th>tags</th>\n",
       "      <th>length</th>\n",
       "      <th>url</th>\n",
       "      <th>reading_time</th>\n",
       "      <th>dow</th>\n",
       "      <th>year</th>\n",
       "      <th>month</th>\n",
       "      <th>hour</th>\n",
       "      <th>number_of_tags</th>\n",
       "    </tr>\n",
       "  </thead>\n",
       "  <tbody>\n",
       "    <tr>\n",
       "      <th>0</th>\n",
       "      <td>2018-02-21 17:01:00.928</td>\n",
       "      <td>For Night Owls, the Day Starts with a Nocturna...</td>\n",
       "      <td>HITRECORD</td>\n",
       "      <td>medium.com</td>\n",
       "      <td>MorningRoutines Hitrecord Podcast Night</td>\n",
       "      <td>31442</td>\n",
       "      <td>https://medium.com/on-mornings/nocturnalmornin...</td>\n",
       "      <td>10</td>\n",
       "      <td>2</td>\n",
       "      <td>2018</td>\n",
       "      <td>2</td>\n",
       "      <td>17</td>\n",
       "      <td>4</td>\n",
       "    </tr>\n",
       "    <tr>\n",
       "      <th>1</th>\n",
       "      <td>2017-12-07 15:56:00.967</td>\n",
       "      <td>Blockchain is Memory</td>\n",
       "      <td>Maria Bustillos</td>\n",
       "      <td>medium.com</td>\n",
       "      <td>Blockchain Technology History Network WordsTha...</td>\n",
       "      <td>23171</td>\n",
       "      <td>https://medium.com/wordsthatmatter/never-break...</td>\n",
       "      <td>5</td>\n",
       "      <td>3</td>\n",
       "      <td>2017</td>\n",
       "      <td>12</td>\n",
       "      <td>15</td>\n",
       "      <td>5</td>\n",
       "    </tr>\n",
       "    <tr>\n",
       "      <th>2</th>\n",
       "      <td>2018-02-08 17:33:27.816</td>\n",
       "      <td>ON MORNINGS Credits</td>\n",
       "      <td>HITRECORD</td>\n",
       "      <td>medium.com</td>\n",
       "      <td>Medium Hitrecord OnMornings</td>\n",
       "      <td>80606</td>\n",
       "      <td>https://medium.com/on-mornings/onmorningscredi...</td>\n",
       "      <td>4</td>\n",
       "      <td>3</td>\n",
       "      <td>2018</td>\n",
       "      <td>2</td>\n",
       "      <td>17</td>\n",
       "      <td>3</td>\n",
       "    </tr>\n",
       "    <tr>\n",
       "      <th>3</th>\n",
       "      <td>2018-02-09 18:04:12.262</td>\n",
       "      <td>Apple HomePod Review: Almost love</td>\n",
       "      <td>Lance Ulanoff</td>\n",
       "      <td>medium.com</td>\n",
       "      <td>Apple Homepod Technology Review Audio</td>\n",
       "      <td>30834</td>\n",
       "      <td>https://medium.com/@LanceUlanoff/apple-homepod...</td>\n",
       "      <td>10</td>\n",
       "      <td>4</td>\n",
       "      <td>2018</td>\n",
       "      <td>2</td>\n",
       "      <td>18</td>\n",
       "      <td>5</td>\n",
       "    </tr>\n",
       "    <tr>\n",
       "      <th>4</th>\n",
       "      <td>2017-10-02 23:08:00.000</td>\n",
       "      <td>Tips and tricks for Medium writers</td>\n",
       "      <td>Medium</td>\n",
       "      <td>blog.medium.com</td>\n",
       "      <td>Medium Help Tips</td>\n",
       "      <td>23565</td>\n",
       "      <td>https://blog.medium.com/tips-and-tricks-for-me...</td>\n",
       "      <td>4</td>\n",
       "      <td>0</td>\n",
       "      <td>2017</td>\n",
       "      <td>10</td>\n",
       "      <td>23</td>\n",
       "      <td>3</td>\n",
       "    </tr>\n",
       "  </tbody>\n",
       "</table>\n",
       "</div>"
      ],
      "text/plain": [
       "                published                                              title  \\\n",
       "0 2018-02-21 17:01:00.928  For Night Owls, the Day Starts with a Nocturna...   \n",
       "1 2017-12-07 15:56:00.967                               Blockchain is Memory   \n",
       "2 2018-02-08 17:33:27.816                                ON MORNINGS Credits   \n",
       "3 2018-02-09 18:04:12.262                  Apple HomePod Review: Almost love   \n",
       "4 2017-10-02 23:08:00.000                 Tips and tricks for Medium writers   \n",
       "\n",
       "            author           domain  \\\n",
       "0        HITRECORD       medium.com   \n",
       "1  Maria Bustillos       medium.com   \n",
       "2        HITRECORD       medium.com   \n",
       "3    Lance Ulanoff       medium.com   \n",
       "4           Medium  blog.medium.com   \n",
       "\n",
       "                                                tags  length  \\\n",
       "0            MorningRoutines Hitrecord Podcast Night   31442   \n",
       "1  Blockchain Technology History Network WordsTha...   23171   \n",
       "2                        Medium Hitrecord OnMornings   80606   \n",
       "3              Apple Homepod Technology Review Audio   30834   \n",
       "4                                   Medium Help Tips   23565   \n",
       "\n",
       "                                                 url  reading_time  dow  year  \\\n",
       "0  https://medium.com/on-mornings/nocturnalmornin...            10    2  2018   \n",
       "1  https://medium.com/wordsthatmatter/never-break...             5    3  2017   \n",
       "2  https://medium.com/on-mornings/onmorningscredi...             4    3  2018   \n",
       "3  https://medium.com/@LanceUlanoff/apple-homepod...            10    4  2018   \n",
       "4  https://blog.medium.com/tips-and-tricks-for-me...             4    0  2017   \n",
       "\n",
       "   month  hour  number_of_tags  \n",
       "0      2    17               4  \n",
       "1     12    15               5  \n",
       "2      2    17               3  \n",
       "3      2    18               5  \n",
       "4     10    23               3  "
      ]
     },
     "execution_count": 11,
     "metadata": {},
     "output_type": "execute_result"
    }
   ],
   "source": [
    "test.head()"
   ]
  },
  {
   "cell_type": "code",
   "execution_count": 12,
   "metadata": {
    "_uuid": "8c8b8fc4b89e43002929997be6660e872c5141ba"
   },
   "outputs": [],
   "source": [
    "train_original = train.copy()\n",
    "test_orininal = test.copy()"
   ]
  },
  {
   "cell_type": "code",
   "execution_count": 13,
   "metadata": {},
   "outputs": [],
   "source": [
    "train = train_original\n",
    "test = test_orininal"
   ]
  },
  {
   "cell_type": "markdown",
   "metadata": {
    "_cell_guid": "0c17abb8-d1d4-4632-954d-14d7f9eba4c6",
    "_uuid": "62b7b37ea5a68ddbd03c29100765a367a9eb52a8"
   },
   "source": [
    "As we can see, first articles were published about 50 years ago. Great :)"
   ]
  },
  {
   "cell_type": "code",
   "execution_count": 14,
   "metadata": {
    "_uuid": "a1a7cbd8a4854f15a71d733cd31dee10fab7436d"
   },
   "outputs": [],
   "source": [
    "def get_content_features(contents):\n",
    "    content_lengths = list()\n",
    "    h1_counts = list()\n",
    "    h2_counts = list()\n",
    "    h3_counts = list()\n",
    "    img_counts = list()\n",
    "    href_counts = list()\n",
    "    \n",
    "    for content in contents:\n",
    "        content_stripped = strip_tags(content)\n",
    "        content_length = len(content_stripped.split())\n",
    "        content_lengths.append(content_length)\n",
    "        h1_counts.append(content.count('<h1'))\n",
    "        h2_counts.append(content.count('<h2'))\n",
    "        h3_counts.append(content.count('<h3'))\n",
    "        img_counts.append(content.count('<img'))\n",
    "        href_counts.append(content.count('<href'))\n",
    "        \n",
    "    counts = np.hstack([np.array(h1_counts).reshape(-1, 1),\n",
    "                    np.array(h2_counts).reshape(-1, 1),\n",
    "                    np.array(h3_counts).reshape(-1, 1),\n",
    "                    np.array(img_counts).reshape(-1, 1),\n",
    "                    np.array(href_counts).reshape(-1, 1)])\n",
    "\n",
    "    content_lengths = np.array(content_lengths)\n",
    "    is_short = (content_lengths<1350).astype('int')\n",
    "    is_medium = ((content_lengths>=1350) & (content_lengths<2700)).astype('int')\n",
    "    is_long = ((content_lengths>=2700) & (content_lengths<6750)).astype('int')\n",
    "    is_huge = (content_lengths>=6750).astype('int')\n",
    "    \n",
    "    length_types = np.hstack([is_short.reshape(-1, 1),\n",
    "                              is_medium.reshape(-1, 1),\n",
    "                              is_long.reshape(-1, 1),\n",
    "                              is_huge.reshape(-1, 1) ])\n",
    "    \n",
    "    return counts, length_types"
   ]
  },
  {
   "cell_type": "code",
   "execution_count": 15,
   "metadata": {
    "_uuid": "006c42551ae4070c88f09f827a38e26dc091b3d5"
   },
   "outputs": [
    {
     "ename": "KeyboardInterrupt",
     "evalue": "",
     "output_type": "error",
     "traceback": [
      "\u001b[1;31m---------------------------------------------------------------------------\u001b[0m",
      "\u001b[1;31mKeyboardInterrupt\u001b[0m                         Traceback (most recent call last)",
      "\u001b[1;32m<timed exec>\u001b[0m in \u001b[0;36m<module>\u001b[1;34m\u001b[0m\n",
      "\u001b[1;32m<ipython-input-8-d2cbd55e1a27>\u001b[0m in \u001b[0;36mget_contents\u001b[1;34m(path_to_file)\u001b[0m\n\u001b[0;32m      2\u001b[0m     \u001b[0mcontents\u001b[0m \u001b[1;33m=\u001b[0m \u001b[0mlist\u001b[0m\u001b[1;33m(\u001b[0m\u001b[1;33m)\u001b[0m\u001b[1;33m\u001b[0m\u001b[1;33m\u001b[0m\u001b[0m\n\u001b[0;32m      3\u001b[0m     \u001b[1;32mwith\u001b[0m \u001b[0mopen\u001b[0m\u001b[1;33m(\u001b[0m\u001b[0mpath_to_file\u001b[0m\u001b[1;33m,\u001b[0m \u001b[0mencoding\u001b[0m\u001b[1;33m=\u001b[0m\u001b[1;34m'utf-8'\u001b[0m\u001b[1;33m)\u001b[0m \u001b[1;32mas\u001b[0m \u001b[0minp_json_file\u001b[0m\u001b[1;33m:\u001b[0m\u001b[1;33m\u001b[0m\u001b[1;33m\u001b[0m\u001b[0m\n\u001b[1;32m----> 4\u001b[1;33m         \u001b[1;32mfor\u001b[0m \u001b[0mline\u001b[0m \u001b[1;32min\u001b[0m \u001b[0minp_json_file\u001b[0m\u001b[1;33m:\u001b[0m\u001b[1;33m\u001b[0m\u001b[1;33m\u001b[0m\u001b[0m\n\u001b[0m\u001b[0;32m      5\u001b[0m             \u001b[0mjson_data\u001b[0m \u001b[1;33m=\u001b[0m \u001b[0mread_json_line\u001b[0m\u001b[1;33m(\u001b[0m\u001b[0mline\u001b[0m\u001b[1;33m)\u001b[0m\u001b[1;33m\u001b[0m\u001b[1;33m\u001b[0m\u001b[0m\n\u001b[0;32m      6\u001b[0m             \u001b[0mcontent\u001b[0m \u001b[1;33m=\u001b[0m \u001b[0mjson_data\u001b[0m\u001b[1;33m[\u001b[0m\u001b[1;34m'content'\u001b[0m\u001b[1;33m]\u001b[0m\u001b[1;33m\u001b[0m\u001b[1;33m\u001b[0m\u001b[0m\n",
      "\u001b[1;32m~\\AppData\\Local\\Continuum\\anaconda3\\lib\\codecs.py\u001b[0m in \u001b[0;36mdecode\u001b[1;34m(self, input, final)\u001b[0m\n\u001b[0;32m    317\u001b[0m         \u001b[1;32mraise\u001b[0m \u001b[0mNotImplementedError\u001b[0m\u001b[1;33m\u001b[0m\u001b[1;33m\u001b[0m\u001b[0m\n\u001b[0;32m    318\u001b[0m \u001b[1;33m\u001b[0m\u001b[0m\n\u001b[1;32m--> 319\u001b[1;33m     \u001b[1;32mdef\u001b[0m \u001b[0mdecode\u001b[0m\u001b[1;33m(\u001b[0m\u001b[0mself\u001b[0m\u001b[1;33m,\u001b[0m \u001b[0minput\u001b[0m\u001b[1;33m,\u001b[0m \u001b[0mfinal\u001b[0m\u001b[1;33m=\u001b[0m\u001b[1;32mFalse\u001b[0m\u001b[1;33m)\u001b[0m\u001b[1;33m:\u001b[0m\u001b[1;33m\u001b[0m\u001b[1;33m\u001b[0m\u001b[0m\n\u001b[0m\u001b[0;32m    320\u001b[0m         \u001b[1;31m# decode input (taking the buffer into account)\u001b[0m\u001b[1;33m\u001b[0m\u001b[1;33m\u001b[0m\u001b[1;33m\u001b[0m\u001b[0m\n\u001b[0;32m    321\u001b[0m         \u001b[0mdata\u001b[0m \u001b[1;33m=\u001b[0m \u001b[0mself\u001b[0m\u001b[1;33m.\u001b[0m\u001b[0mbuffer\u001b[0m \u001b[1;33m+\u001b[0m \u001b[0minput\u001b[0m\u001b[1;33m\u001b[0m\u001b[1;33m\u001b[0m\u001b[0m\n",
      "\u001b[1;31mKeyboardInterrupt\u001b[0m: "
     ]
    }
   ],
   "source": [
    "%%time\n",
    "train_raw_contents = get_contents('train.json')"
   ]
  },
  {
   "cell_type": "code",
   "execution_count": 16,
   "metadata": {
    "_uuid": "ea0a65c52273cd98548e0f17313cb61b7fa198a2"
   },
   "outputs": [
    {
     "ename": "KeyboardInterrupt",
     "evalue": "",
     "output_type": "error",
     "traceback": [
      "\u001b[1;31m---------------------------------------------------------------------------\u001b[0m",
      "\u001b[1;31mKeyboardInterrupt\u001b[0m                         Traceback (most recent call last)",
      "\u001b[1;32m~\\AppData\\Local\\Continuum\\anaconda3\\lib\\site-packages\\IPython\\core\\magics\\execution.py\u001b[0m in \u001b[0;36mtime\u001b[1;34m(self, line, cell, local_ns)\u001b[0m\n\u001b[0;32m   1270\u001b[0m             \u001b[1;32mtry\u001b[0m\u001b[1;33m:\u001b[0m\u001b[1;33m\u001b[0m\u001b[1;33m\u001b[0m\u001b[0m\n\u001b[1;32m-> 1271\u001b[1;33m                 \u001b[0mexec\u001b[0m\u001b[1;33m(\u001b[0m\u001b[0mcode\u001b[0m\u001b[1;33m,\u001b[0m \u001b[0mglob\u001b[0m\u001b[1;33m,\u001b[0m \u001b[0mlocal_ns\u001b[0m\u001b[1;33m)\u001b[0m\u001b[1;33m\u001b[0m\u001b[1;33m\u001b[0m\u001b[0m\n\u001b[0m\u001b[0;32m   1272\u001b[0m             \u001b[1;32mexcept\u001b[0m\u001b[1;33m:\u001b[0m\u001b[1;33m\u001b[0m\u001b[1;33m\u001b[0m\u001b[0m\n",
      "\u001b[1;32m<timed exec>\u001b[0m in \u001b[0;36m<module>\u001b[1;34m\u001b[0m\n",
      "\u001b[1;32m<ipython-input-8-d2cbd55e1a27>\u001b[0m in \u001b[0;36mget_contents\u001b[1;34m(path_to_file)\u001b[0m\n\u001b[0;32m      3\u001b[0m     \u001b[1;32mwith\u001b[0m \u001b[0mopen\u001b[0m\u001b[1;33m(\u001b[0m\u001b[0mpath_to_file\u001b[0m\u001b[1;33m,\u001b[0m \u001b[0mencoding\u001b[0m\u001b[1;33m=\u001b[0m\u001b[1;34m'utf-8'\u001b[0m\u001b[1;33m)\u001b[0m \u001b[1;32mas\u001b[0m \u001b[0minp_json_file\u001b[0m\u001b[1;33m:\u001b[0m\u001b[1;33m\u001b[0m\u001b[1;33m\u001b[0m\u001b[0m\n\u001b[1;32m----> 4\u001b[1;33m         \u001b[1;32mfor\u001b[0m \u001b[0mline\u001b[0m \u001b[1;32min\u001b[0m \u001b[0minp_json_file\u001b[0m\u001b[1;33m:\u001b[0m\u001b[1;33m\u001b[0m\u001b[1;33m\u001b[0m\u001b[0m\n\u001b[0m\u001b[0;32m      5\u001b[0m             \u001b[0mjson_data\u001b[0m \u001b[1;33m=\u001b[0m \u001b[0mread_json_line\u001b[0m\u001b[1;33m(\u001b[0m\u001b[0mline\u001b[0m\u001b[1;33m)\u001b[0m\u001b[1;33m\u001b[0m\u001b[1;33m\u001b[0m\u001b[0m\n",
      "\u001b[1;32m~\\AppData\\Local\\Continuum\\anaconda3\\lib\\codecs.py\u001b[0m in \u001b[0;36mdecode\u001b[1;34m(self, input, final)\u001b[0m\n\u001b[0;32m    318\u001b[0m \u001b[1;33m\u001b[0m\u001b[0m\n\u001b[1;32m--> 319\u001b[1;33m     \u001b[1;32mdef\u001b[0m \u001b[0mdecode\u001b[0m\u001b[1;33m(\u001b[0m\u001b[0mself\u001b[0m\u001b[1;33m,\u001b[0m \u001b[0minput\u001b[0m\u001b[1;33m,\u001b[0m \u001b[0mfinal\u001b[0m\u001b[1;33m=\u001b[0m\u001b[1;32mFalse\u001b[0m\u001b[1;33m)\u001b[0m\u001b[1;33m:\u001b[0m\u001b[1;33m\u001b[0m\u001b[1;33m\u001b[0m\u001b[0m\n\u001b[0m\u001b[0;32m    320\u001b[0m         \u001b[1;31m# decode input (taking the buffer into account)\u001b[0m\u001b[1;33m\u001b[0m\u001b[1;33m\u001b[0m\u001b[1;33m\u001b[0m\u001b[0m\n",
      "\u001b[1;31mKeyboardInterrupt\u001b[0m: ",
      "\nDuring handling of the above exception, another exception occurred:\n",
      "\u001b[1;31mAttributeError\u001b[0m                            Traceback (most recent call last)",
      "\u001b[1;32m~\\AppData\\Local\\Continuum\\anaconda3\\lib\\site-packages\\IPython\\core\\interactiveshell.py\u001b[0m in \u001b[0;36mshowtraceback\u001b[1;34m(self, exc_tuple, filename, tb_offset, exception_only, running_compiled_code)\u001b[0m\n\u001b[0;32m   2017\u001b[0m                         \u001b[1;31m# in the engines. This should return a list of strings.\u001b[0m\u001b[1;33m\u001b[0m\u001b[1;33m\u001b[0m\u001b[1;33m\u001b[0m\u001b[0m\n\u001b[1;32m-> 2018\u001b[1;33m                         \u001b[0mstb\u001b[0m \u001b[1;33m=\u001b[0m \u001b[0mvalue\u001b[0m\u001b[1;33m.\u001b[0m\u001b[0m_render_traceback_\u001b[0m\u001b[1;33m(\u001b[0m\u001b[1;33m)\u001b[0m\u001b[1;33m\u001b[0m\u001b[1;33m\u001b[0m\u001b[0m\n\u001b[0m\u001b[0;32m   2019\u001b[0m                     \u001b[1;32mexcept\u001b[0m \u001b[0mException\u001b[0m\u001b[1;33m:\u001b[0m\u001b[1;33m\u001b[0m\u001b[1;33m\u001b[0m\u001b[0m\n",
      "\u001b[1;31mAttributeError\u001b[0m: 'KeyboardInterrupt' object has no attribute '_render_traceback_'",
      "\nDuring handling of the above exception, another exception occurred:\n",
      "\u001b[1;31mKeyboardInterrupt\u001b[0m                         Traceback (most recent call last)",
      "\u001b[1;32m~\\AppData\\Local\\Continuum\\anaconda3\\lib\\site-packages\\IPython\\core\\interactiveshell.py\u001b[0m in \u001b[0;36mshowtraceback\u001b[1;34m(self, exc_tuple, filename, tb_offset, exception_only, running_compiled_code)\u001b[0m\n\u001b[0;32m   2020\u001b[0m                         stb = self.InteractiveTB.structured_traceback(etype,\n\u001b[1;32m-> 2021\u001b[1;33m                                             value, tb, tb_offset=tb_offset)\n\u001b[0m\u001b[0;32m   2022\u001b[0m \u001b[1;33m\u001b[0m\u001b[0m\n",
      "\u001b[1;32m~\\AppData\\Local\\Continuum\\anaconda3\\lib\\site-packages\\IPython\\core\\ultratb.py\u001b[0m in \u001b[0;36mstructured_traceback\u001b[1;34m(self, etype, value, tb, tb_offset, number_of_lines_of_context)\u001b[0m\n\u001b[0;32m   1377\u001b[0m         \u001b[0mself\u001b[0m\u001b[1;33m.\u001b[0m\u001b[0mtb\u001b[0m \u001b[1;33m=\u001b[0m \u001b[0mtb\u001b[0m\u001b[1;33m\u001b[0m\u001b[1;33m\u001b[0m\u001b[0m\n\u001b[1;32m-> 1378\u001b[1;33m         return FormattedTB.structured_traceback(\n\u001b[0m\u001b[0;32m   1379\u001b[0m             self, etype, value, tb, tb_offset, number_of_lines_of_context)\n",
      "\u001b[1;31mKeyboardInterrupt\u001b[0m: ",
      "\nDuring handling of the above exception, another exception occurred:\n",
      "\u001b[1;31mOSError\u001b[0m                                   Traceback (most recent call last)",
      "\u001b[1;32m~\\AppData\\Local\\Continuum\\anaconda3\\lib\\linecache.py\u001b[0m in \u001b[0;36mcheckcache\u001b[1;34m(filename)\u001b[0m\n\u001b[0;32m     73\u001b[0m         \u001b[1;32mtry\u001b[0m\u001b[1;33m:\u001b[0m\u001b[1;33m\u001b[0m\u001b[1;33m\u001b[0m\u001b[0m\n\u001b[1;32m---> 74\u001b[1;33m             \u001b[0mstat\u001b[0m \u001b[1;33m=\u001b[0m \u001b[0mos\u001b[0m\u001b[1;33m.\u001b[0m\u001b[0mstat\u001b[0m\u001b[1;33m(\u001b[0m\u001b[0mfullname\u001b[0m\u001b[1;33m)\u001b[0m\u001b[1;33m\u001b[0m\u001b[1;33m\u001b[0m\u001b[0m\n\u001b[0m\u001b[0;32m     75\u001b[0m         \u001b[1;32mexcept\u001b[0m \u001b[0mOSError\u001b[0m\u001b[1;33m:\u001b[0m\u001b[1;33m\u001b[0m\u001b[1;33m\u001b[0m\u001b[0m\n",
      "\u001b[1;31mOSError\u001b[0m: [WinError 123] The filename, directory name, or volume label syntax is incorrect: '<ipython-input-8-d2cbd55e1a27>'",
      "\nDuring handling of the above exception, another exception occurred:\n",
      "\u001b[1;31mKeyboardInterrupt\u001b[0m                         Traceback (most recent call last)",
      "\u001b[1;32m<ipython-input-16-7e6e06fa51e5>\u001b[0m in \u001b[0;36m<module>\u001b[1;34m\u001b[0m\n\u001b[1;32m----> 1\u001b[1;33m \u001b[0mget_ipython\u001b[0m\u001b[1;33m(\u001b[0m\u001b[1;33m)\u001b[0m\u001b[1;33m.\u001b[0m\u001b[0mrun_cell_magic\u001b[0m\u001b[1;33m(\u001b[0m\u001b[1;34m'time'\u001b[0m\u001b[1;33m,\u001b[0m \u001b[1;34m''\u001b[0m\u001b[1;33m,\u001b[0m \u001b[1;34m\"test_raw_contents = get_contents('test.json')\\n\"\u001b[0m\u001b[1;33m)\u001b[0m\u001b[1;33m\u001b[0m\u001b[1;33m\u001b[0m\u001b[0m\n\u001b[0m",
      "\u001b[1;32m~\\AppData\\Local\\Continuum\\anaconda3\\lib\\site-packages\\IPython\\core\\interactiveshell.py\u001b[0m in \u001b[0;36mrun_cell_magic\u001b[1;34m(self, magic_name, line, cell)\u001b[0m\n\u001b[0;32m   2321\u001b[0m             \u001b[0mmagic_arg_s\u001b[0m \u001b[1;33m=\u001b[0m \u001b[0mself\u001b[0m\u001b[1;33m.\u001b[0m\u001b[0mvar_expand\u001b[0m\u001b[1;33m(\u001b[0m\u001b[0mline\u001b[0m\u001b[1;33m,\u001b[0m \u001b[0mstack_depth\u001b[0m\u001b[1;33m)\u001b[0m\u001b[1;33m\u001b[0m\u001b[1;33m\u001b[0m\u001b[0m\n\u001b[0;32m   2322\u001b[0m             \u001b[1;32mwith\u001b[0m \u001b[0mself\u001b[0m\u001b[1;33m.\u001b[0m\u001b[0mbuiltin_trap\u001b[0m\u001b[1;33m:\u001b[0m\u001b[1;33m\u001b[0m\u001b[1;33m\u001b[0m\u001b[0m\n\u001b[1;32m-> 2323\u001b[1;33m                 \u001b[0mresult\u001b[0m \u001b[1;33m=\u001b[0m \u001b[0mfn\u001b[0m\u001b[1;33m(\u001b[0m\u001b[0mmagic_arg_s\u001b[0m\u001b[1;33m,\u001b[0m \u001b[0mcell\u001b[0m\u001b[1;33m)\u001b[0m\u001b[1;33m\u001b[0m\u001b[1;33m\u001b[0m\u001b[0m\n\u001b[0m\u001b[0;32m   2324\u001b[0m             \u001b[1;32mreturn\u001b[0m \u001b[0mresult\u001b[0m\u001b[1;33m\u001b[0m\u001b[1;33m\u001b[0m\u001b[0m\n\u001b[0;32m   2325\u001b[0m \u001b[1;33m\u001b[0m\u001b[0m\n",
      "\u001b[1;32m<decorator-gen-63>\u001b[0m in \u001b[0;36mtime\u001b[1;34m(self, line, cell, local_ns)\u001b[0m\n",
      "\u001b[1;32m~\\AppData\\Local\\Continuum\\anaconda3\\lib\\site-packages\\IPython\\core\\magic.py\u001b[0m in \u001b[0;36m<lambda>\u001b[1;34m(f, *a, **k)\u001b[0m\n\u001b[0;32m    185\u001b[0m     \u001b[1;31m# but it's overkill for just that one bit of state.\u001b[0m\u001b[1;33m\u001b[0m\u001b[1;33m\u001b[0m\u001b[1;33m\u001b[0m\u001b[0m\n\u001b[0;32m    186\u001b[0m     \u001b[1;32mdef\u001b[0m \u001b[0mmagic_deco\u001b[0m\u001b[1;33m(\u001b[0m\u001b[0marg\u001b[0m\u001b[1;33m)\u001b[0m\u001b[1;33m:\u001b[0m\u001b[1;33m\u001b[0m\u001b[1;33m\u001b[0m\u001b[0m\n\u001b[1;32m--> 187\u001b[1;33m         \u001b[0mcall\u001b[0m \u001b[1;33m=\u001b[0m \u001b[1;32mlambda\u001b[0m \u001b[0mf\u001b[0m\u001b[1;33m,\u001b[0m \u001b[1;33m*\u001b[0m\u001b[0ma\u001b[0m\u001b[1;33m,\u001b[0m \u001b[1;33m**\u001b[0m\u001b[0mk\u001b[0m\u001b[1;33m:\u001b[0m \u001b[0mf\u001b[0m\u001b[1;33m(\u001b[0m\u001b[1;33m*\u001b[0m\u001b[0ma\u001b[0m\u001b[1;33m,\u001b[0m \u001b[1;33m**\u001b[0m\u001b[0mk\u001b[0m\u001b[1;33m)\u001b[0m\u001b[1;33m\u001b[0m\u001b[1;33m\u001b[0m\u001b[0m\n\u001b[0m\u001b[0;32m    188\u001b[0m \u001b[1;33m\u001b[0m\u001b[0m\n\u001b[0;32m    189\u001b[0m         \u001b[1;32mif\u001b[0m \u001b[0mcallable\u001b[0m\u001b[1;33m(\u001b[0m\u001b[0marg\u001b[0m\u001b[1;33m)\u001b[0m\u001b[1;33m:\u001b[0m\u001b[1;33m\u001b[0m\u001b[1;33m\u001b[0m\u001b[0m\n",
      "\u001b[1;32m~\\AppData\\Local\\Continuum\\anaconda3\\lib\\site-packages\\IPython\\core\\magics\\execution.py\u001b[0m in \u001b[0;36mtime\u001b[1;34m(self, line, cell, local_ns)\u001b[0m\n\u001b[0;32m   1271\u001b[0m                 \u001b[0mexec\u001b[0m\u001b[1;33m(\u001b[0m\u001b[0mcode\u001b[0m\u001b[1;33m,\u001b[0m \u001b[0mglob\u001b[0m\u001b[1;33m,\u001b[0m \u001b[0mlocal_ns\u001b[0m\u001b[1;33m)\u001b[0m\u001b[1;33m\u001b[0m\u001b[1;33m\u001b[0m\u001b[0m\n\u001b[0;32m   1272\u001b[0m             \u001b[1;32mexcept\u001b[0m\u001b[1;33m:\u001b[0m\u001b[1;33m\u001b[0m\u001b[1;33m\u001b[0m\u001b[0m\n\u001b[1;32m-> 1273\u001b[1;33m                 \u001b[0mself\u001b[0m\u001b[1;33m.\u001b[0m\u001b[0mshell\u001b[0m\u001b[1;33m.\u001b[0m\u001b[0mshowtraceback\u001b[0m\u001b[1;33m(\u001b[0m\u001b[1;33m)\u001b[0m\u001b[1;33m\u001b[0m\u001b[1;33m\u001b[0m\u001b[0m\n\u001b[0m\u001b[0;32m   1274\u001b[0m                 \u001b[1;32mreturn\u001b[0m\u001b[1;33m\u001b[0m\u001b[1;33m\u001b[0m\u001b[0m\n\u001b[0;32m   1275\u001b[0m             \u001b[0mend\u001b[0m \u001b[1;33m=\u001b[0m \u001b[0mclock2\u001b[0m\u001b[1;33m(\u001b[0m\u001b[1;33m)\u001b[0m\u001b[1;33m\u001b[0m\u001b[1;33m\u001b[0m\u001b[0m\n",
      "\u001b[1;32m~\\AppData\\Local\\Continuum\\anaconda3\\lib\\site-packages\\IPython\\core\\interactiveshell.py\u001b[0m in \u001b[0;36mshowtraceback\u001b[1;34m(self, exc_tuple, filename, tb_offset, exception_only, running_compiled_code)\u001b[0m\n\u001b[0;32m   2031\u001b[0m \u001b[1;33m\u001b[0m\u001b[0m\n\u001b[0;32m   2032\u001b[0m         \u001b[1;32mexcept\u001b[0m \u001b[0mKeyboardInterrupt\u001b[0m\u001b[1;33m:\u001b[0m\u001b[1;33m\u001b[0m\u001b[1;33m\u001b[0m\u001b[0m\n\u001b[1;32m-> 2033\u001b[1;33m             \u001b[0mprint\u001b[0m\u001b[1;33m(\u001b[0m\u001b[1;34m'\\n'\u001b[0m \u001b[1;33m+\u001b[0m \u001b[0mself\u001b[0m\u001b[1;33m.\u001b[0m\u001b[0mget_exception_only\u001b[0m\u001b[1;33m(\u001b[0m\u001b[1;33m)\u001b[0m\u001b[1;33m,\u001b[0m \u001b[0mfile\u001b[0m\u001b[1;33m=\u001b[0m\u001b[0msys\u001b[0m\u001b[1;33m.\u001b[0m\u001b[0mstderr\u001b[0m\u001b[1;33m)\u001b[0m\u001b[1;33m\u001b[0m\u001b[1;33m\u001b[0m\u001b[0m\n\u001b[0m\u001b[0;32m   2034\u001b[0m \u001b[1;33m\u001b[0m\u001b[0m\n\u001b[0;32m   2035\u001b[0m     \u001b[1;32mdef\u001b[0m \u001b[0m_showtraceback\u001b[0m\u001b[1;33m(\u001b[0m\u001b[0mself\u001b[0m\u001b[1;33m,\u001b[0m \u001b[0metype\u001b[0m\u001b[1;33m,\u001b[0m \u001b[0mevalue\u001b[0m\u001b[1;33m,\u001b[0m \u001b[0mstb\u001b[0m\u001b[1;33m)\u001b[0m\u001b[1;33m:\u001b[0m\u001b[1;33m\u001b[0m\u001b[1;33m\u001b[0m\u001b[0m\n",
      "\u001b[1;32m~\\AppData\\Local\\Continuum\\anaconda3\\lib\\site-packages\\IPython\\core\\interactiveshell.py\u001b[0m in \u001b[0;36mget_exception_only\u001b[1;34m(self, exc_tuple)\u001b[0m\n\u001b[0;32m   1976\u001b[0m         \"\"\"\n\u001b[0;32m   1977\u001b[0m         \u001b[0metype\u001b[0m\u001b[1;33m,\u001b[0m \u001b[0mvalue\u001b[0m\u001b[1;33m,\u001b[0m \u001b[0mtb\u001b[0m \u001b[1;33m=\u001b[0m \u001b[0mself\u001b[0m\u001b[1;33m.\u001b[0m\u001b[0m_get_exc_info\u001b[0m\u001b[1;33m(\u001b[0m\u001b[0mexc_tuple\u001b[0m\u001b[1;33m)\u001b[0m\u001b[1;33m\u001b[0m\u001b[1;33m\u001b[0m\u001b[0m\n\u001b[1;32m-> 1978\u001b[1;33m         \u001b[0mmsg\u001b[0m \u001b[1;33m=\u001b[0m \u001b[0mtraceback\u001b[0m\u001b[1;33m.\u001b[0m\u001b[0mformat_exception_only\u001b[0m\u001b[1;33m(\u001b[0m\u001b[0metype\u001b[0m\u001b[1;33m,\u001b[0m \u001b[0mvalue\u001b[0m\u001b[1;33m)\u001b[0m\u001b[1;33m\u001b[0m\u001b[1;33m\u001b[0m\u001b[0m\n\u001b[0m\u001b[0;32m   1979\u001b[0m         \u001b[1;32mreturn\u001b[0m \u001b[1;34m''\u001b[0m\u001b[1;33m.\u001b[0m\u001b[0mjoin\u001b[0m\u001b[1;33m(\u001b[0m\u001b[0mmsg\u001b[0m\u001b[1;33m)\u001b[0m\u001b[1;33m\u001b[0m\u001b[1;33m\u001b[0m\u001b[0m\n\u001b[0;32m   1980\u001b[0m \u001b[1;33m\u001b[0m\u001b[0m\n",
      "\u001b[1;32m~\\AppData\\Local\\Continuum\\anaconda3\\lib\\traceback.py\u001b[0m in \u001b[0;36mformat_exception_only\u001b[1;34m(etype, value)\u001b[0m\n\u001b[0;32m    138\u001b[0m \u001b[1;33m\u001b[0m\u001b[0m\n\u001b[0;32m    139\u001b[0m     \"\"\"\n\u001b[1;32m--> 140\u001b[1;33m     \u001b[1;32mreturn\u001b[0m \u001b[0mlist\u001b[0m\u001b[1;33m(\u001b[0m\u001b[0mTracebackException\u001b[0m\u001b[1;33m(\u001b[0m\u001b[0metype\u001b[0m\u001b[1;33m,\u001b[0m \u001b[0mvalue\u001b[0m\u001b[1;33m,\u001b[0m \u001b[1;32mNone\u001b[0m\u001b[1;33m)\u001b[0m\u001b[1;33m.\u001b[0m\u001b[0mformat_exception_only\u001b[0m\u001b[1;33m(\u001b[0m\u001b[1;33m)\u001b[0m\u001b[1;33m)\u001b[0m\u001b[1;33m\u001b[0m\u001b[1;33m\u001b[0m\u001b[0m\n\u001b[0m\u001b[0;32m    141\u001b[0m \u001b[1;33m\u001b[0m\u001b[0m\n\u001b[0;32m    142\u001b[0m \u001b[1;33m\u001b[0m\u001b[0m\n",
      "\u001b[1;32m~\\AppData\\Local\\Continuum\\anaconda3\\lib\\traceback.py\u001b[0m in \u001b[0;36m__init__\u001b[1;34m(self, exc_type, exc_value, exc_traceback, limit, lookup_lines, capture_locals, _seen)\u001b[0m\n\u001b[0;32m    495\u001b[0m                 \u001b[0mlookup_lines\u001b[0m\u001b[1;33m=\u001b[0m\u001b[1;32mFalse\u001b[0m\u001b[1;33m,\u001b[0m\u001b[1;33m\u001b[0m\u001b[1;33m\u001b[0m\u001b[0m\n\u001b[0;32m    496\u001b[0m                 \u001b[0mcapture_locals\u001b[0m\u001b[1;33m=\u001b[0m\u001b[0mcapture_locals\u001b[0m\u001b[1;33m,\u001b[0m\u001b[1;33m\u001b[0m\u001b[1;33m\u001b[0m\u001b[0m\n\u001b[1;32m--> 497\u001b[1;33m                 _seen=_seen)\n\u001b[0m\u001b[0;32m    498\u001b[0m         \u001b[1;32melse\u001b[0m\u001b[1;33m:\u001b[0m\u001b[1;33m\u001b[0m\u001b[1;33m\u001b[0m\u001b[0m\n\u001b[0;32m    499\u001b[0m             \u001b[0mcontext\u001b[0m \u001b[1;33m=\u001b[0m \u001b[1;32mNone\u001b[0m\u001b[1;33m\u001b[0m\u001b[1;33m\u001b[0m\u001b[0m\n",
      "\u001b[1;32m~\\AppData\\Local\\Continuum\\anaconda3\\lib\\traceback.py\u001b[0m in \u001b[0;36m__init__\u001b[1;34m(self, exc_type, exc_value, exc_traceback, limit, lookup_lines, capture_locals, _seen)\u001b[0m\n\u001b[0;32m    495\u001b[0m                 \u001b[0mlookup_lines\u001b[0m\u001b[1;33m=\u001b[0m\u001b[1;32mFalse\u001b[0m\u001b[1;33m,\u001b[0m\u001b[1;33m\u001b[0m\u001b[1;33m\u001b[0m\u001b[0m\n\u001b[0;32m    496\u001b[0m                 \u001b[0mcapture_locals\u001b[0m\u001b[1;33m=\u001b[0m\u001b[0mcapture_locals\u001b[0m\u001b[1;33m,\u001b[0m\u001b[1;33m\u001b[0m\u001b[1;33m\u001b[0m\u001b[0m\n\u001b[1;32m--> 497\u001b[1;33m                 _seen=_seen)\n\u001b[0m\u001b[0;32m    498\u001b[0m         \u001b[1;32melse\u001b[0m\u001b[1;33m:\u001b[0m\u001b[1;33m\u001b[0m\u001b[1;33m\u001b[0m\u001b[0m\n\u001b[0;32m    499\u001b[0m             \u001b[0mcontext\u001b[0m \u001b[1;33m=\u001b[0m \u001b[1;32mNone\u001b[0m\u001b[1;33m\u001b[0m\u001b[1;33m\u001b[0m\u001b[0m\n",
      "\u001b[1;32m~\\AppData\\Local\\Continuum\\anaconda3\\lib\\traceback.py\u001b[0m in \u001b[0;36m__init__\u001b[1;34m(self, exc_type, exc_value, exc_traceback, limit, lookup_lines, capture_locals, _seen)\u001b[0m\n\u001b[0;32m    506\u001b[0m         self.stack = StackSummary.extract(\n\u001b[0;32m    507\u001b[0m             \u001b[0mwalk_tb\u001b[0m\u001b[1;33m(\u001b[0m\u001b[0mexc_traceback\u001b[0m\u001b[1;33m)\u001b[0m\u001b[1;33m,\u001b[0m \u001b[0mlimit\u001b[0m\u001b[1;33m=\u001b[0m\u001b[0mlimit\u001b[0m\u001b[1;33m,\u001b[0m \u001b[0mlookup_lines\u001b[0m\u001b[1;33m=\u001b[0m\u001b[0mlookup_lines\u001b[0m\u001b[1;33m,\u001b[0m\u001b[1;33m\u001b[0m\u001b[1;33m\u001b[0m\u001b[0m\n\u001b[1;32m--> 508\u001b[1;33m             capture_locals=capture_locals)\n\u001b[0m\u001b[0;32m    509\u001b[0m         \u001b[0mself\u001b[0m\u001b[1;33m.\u001b[0m\u001b[0mexc_type\u001b[0m \u001b[1;33m=\u001b[0m \u001b[0mexc_type\u001b[0m\u001b[1;33m\u001b[0m\u001b[1;33m\u001b[0m\u001b[0m\n\u001b[0;32m    510\u001b[0m         \u001b[1;31m# Capture now to permit freeing resources: only complication is in the\u001b[0m\u001b[1;33m\u001b[0m\u001b[1;33m\u001b[0m\u001b[1;33m\u001b[0m\u001b[0m\n",
      "\u001b[1;32m~\\AppData\\Local\\Continuum\\anaconda3\\lib\\traceback.py\u001b[0m in \u001b[0;36mextract\u001b[1;34m(klass, frame_gen, limit, lookup_lines, capture_locals)\u001b[0m\n\u001b[0;32m    357\u001b[0m                 filename, lineno, name, lookup_line=False, locals=f_locals))\n\u001b[0;32m    358\u001b[0m         \u001b[1;32mfor\u001b[0m \u001b[0mfilename\u001b[0m \u001b[1;32min\u001b[0m \u001b[0mfnames\u001b[0m\u001b[1;33m:\u001b[0m\u001b[1;33m\u001b[0m\u001b[1;33m\u001b[0m\u001b[0m\n\u001b[1;32m--> 359\u001b[1;33m             \u001b[0mlinecache\u001b[0m\u001b[1;33m.\u001b[0m\u001b[0mcheckcache\u001b[0m\u001b[1;33m(\u001b[0m\u001b[0mfilename\u001b[0m\u001b[1;33m)\u001b[0m\u001b[1;33m\u001b[0m\u001b[1;33m\u001b[0m\u001b[0m\n\u001b[0m\u001b[0;32m    360\u001b[0m         \u001b[1;31m# If immediate lookup was desired, trigger lookups now.\u001b[0m\u001b[1;33m\u001b[0m\u001b[1;33m\u001b[0m\u001b[1;33m\u001b[0m\u001b[0m\n\u001b[0;32m    361\u001b[0m         \u001b[1;32mif\u001b[0m \u001b[0mlookup_lines\u001b[0m\u001b[1;33m:\u001b[0m\u001b[1;33m\u001b[0m\u001b[1;33m\u001b[0m\u001b[0m\n",
      "\u001b[1;32m~\\AppData\\Local\\Continuum\\anaconda3\\lib\\site-packages\\IPython\\core\\compilerop.py\u001b[0m in \u001b[0;36mcheck_linecache_ipython\u001b[1;34m(*args)\u001b[0m\n\u001b[0;32m    139\u001b[0m     \"\"\"\n\u001b[0;32m    140\u001b[0m     \u001b[1;31m# First call the original checkcache as intended\u001b[0m\u001b[1;33m\u001b[0m\u001b[1;33m\u001b[0m\u001b[1;33m\u001b[0m\u001b[0m\n\u001b[1;32m--> 141\u001b[1;33m     \u001b[0mlinecache\u001b[0m\u001b[1;33m.\u001b[0m\u001b[0m_checkcache_ori\u001b[0m\u001b[1;33m(\u001b[0m\u001b[1;33m*\u001b[0m\u001b[0margs\u001b[0m\u001b[1;33m)\u001b[0m\u001b[1;33m\u001b[0m\u001b[1;33m\u001b[0m\u001b[0m\n\u001b[0m\u001b[0;32m    142\u001b[0m     \u001b[1;31m# Then, update back the cache with our data, so that tracebacks related\u001b[0m\u001b[1;33m\u001b[0m\u001b[1;33m\u001b[0m\u001b[1;33m\u001b[0m\u001b[0m\n\u001b[0;32m    143\u001b[0m     \u001b[1;31m# to our compiled codes can be produced.\u001b[0m\u001b[1;33m\u001b[0m\u001b[1;33m\u001b[0m\u001b[1;33m\u001b[0m\u001b[0m\n",
      "\u001b[1;32m~\\AppData\\Local\\Continuum\\anaconda3\\lib\\linecache.py\u001b[0m in \u001b[0;36mcheckcache\u001b[1;34m(filename)\u001b[0m\n\u001b[0;32m     72\u001b[0m             \u001b[1;32mcontinue\u001b[0m   \u001b[1;31m# no-op for files loaded via a __loader__\u001b[0m\u001b[1;33m\u001b[0m\u001b[1;33m\u001b[0m\u001b[0m\n\u001b[0;32m     73\u001b[0m         \u001b[1;32mtry\u001b[0m\u001b[1;33m:\u001b[0m\u001b[1;33m\u001b[0m\u001b[1;33m\u001b[0m\u001b[0m\n\u001b[1;32m---> 74\u001b[1;33m             \u001b[0mstat\u001b[0m \u001b[1;33m=\u001b[0m \u001b[0mos\u001b[0m\u001b[1;33m.\u001b[0m\u001b[0mstat\u001b[0m\u001b[1;33m(\u001b[0m\u001b[0mfullname\u001b[0m\u001b[1;33m)\u001b[0m\u001b[1;33m\u001b[0m\u001b[1;33m\u001b[0m\u001b[0m\n\u001b[0m\u001b[0;32m     75\u001b[0m         \u001b[1;32mexcept\u001b[0m \u001b[0mOSError\u001b[0m\u001b[1;33m:\u001b[0m\u001b[1;33m\u001b[0m\u001b[1;33m\u001b[0m\u001b[0m\n\u001b[0;32m     76\u001b[0m             \u001b[1;32mdel\u001b[0m \u001b[0mcache\u001b[0m\u001b[1;33m[\u001b[0m\u001b[0mfilename\u001b[0m\u001b[1;33m]\u001b[0m\u001b[1;33m\u001b[0m\u001b[1;33m\u001b[0m\u001b[0m\n",
      "\u001b[1;31mKeyboardInterrupt\u001b[0m: "
     ]
    }
   ],
   "source": [
    "%%time\n",
    "test_raw_contents = get_contents('test.json')"
   ]
  },
  {
   "cell_type": "code",
   "execution_count": null,
   "metadata": {
    "_uuid": "74cb5144130ee857661fef18d4a1c34de7c5f02b",
    "scrolled": true
   },
   "outputs": [],
   "source": [
    "counts_scaler = StandardScaler()"
   ]
  },
  {
   "cell_type": "code",
   "execution_count": null,
   "metadata": {
    "_uuid": "b622c13c32f151f093b282b8130fd483b6875575"
   },
   "outputs": [],
   "source": [
    "%%time\n",
    "train_counts, train_content_len = get_content_features(train_raw_contents)\n",
    "train_counts_scaled = np.log1p(train_counts)"
   ]
  },
  {
   "cell_type": "code",
   "execution_count": 483,
   "metadata": {},
   "outputs": [],
   "source": [
    "#train_cleaned_contents = [strip_tags(x) for x in train_raw_contents]"
   ]
  },
  {
   "cell_type": "code",
   "execution_count": 484,
   "metadata": {},
   "outputs": [],
   "source": [
    "#test_cleaned_contents = [strip_tags(x) for x in test_raw_contents]"
   ]
  },
  {
   "cell_type": "code",
   "execution_count": 485,
   "metadata": {},
   "outputs": [],
   "source": [
    "#train = train.assign(content = train_cleaned_contents)\n",
    "#test = test.assign(content = test_cleaned_contents)"
   ]
  },
  {
   "cell_type": "code",
   "execution_count": 486,
   "metadata": {},
   "outputs": [
    {
     "data": {
      "text/plain": [
       "(62313, 4)"
      ]
     },
     "execution_count": 486,
     "metadata": {},
     "output_type": "execute_result"
    }
   ],
   "source": [
    "train_content_len.shape"
   ]
  },
  {
   "cell_type": "code",
   "execution_count": 487,
   "metadata": {},
   "outputs": [
    {
     "data": {
      "text/plain": [
       "numpy.ndarray"
      ]
     },
     "execution_count": 487,
     "metadata": {},
     "output_type": "execute_result"
    }
   ],
   "source": [
    "type(train_content_len)"
   ]
  },
  {
   "cell_type": "code",
   "execution_count": 488,
   "metadata": {},
   "outputs": [
    {
     "data": {
      "text/plain": [
       "array([1, 0, 1, ..., 1, 0, 1])"
      ]
     },
     "execution_count": 488,
     "metadata": {},
     "output_type": "execute_result"
    }
   ],
   "source": [
    "train_content_len.T[0]"
   ]
  },
  {
   "cell_type": "code",
   "execution_count": 489,
   "metadata": {
    "scrolled": true
   },
   "outputs": [
    {
     "data": {
      "text/html": [
       "<div>\n",
       "<style scoped>\n",
       "    .dataframe tbody tr th:only-of-type {\n",
       "        vertical-align: middle;\n",
       "    }\n",
       "\n",
       "    .dataframe tbody tr th {\n",
       "        vertical-align: top;\n",
       "    }\n",
       "\n",
       "    .dataframe thead th {\n",
       "        text-align: right;\n",
       "    }\n",
       "</style>\n",
       "<table border=\"1\" class=\"dataframe\">\n",
       "  <thead>\n",
       "    <tr style=\"text-align: right;\">\n",
       "      <th></th>\n",
       "      <th>0</th>\n",
       "      <th>1</th>\n",
       "      <th>2</th>\n",
       "      <th>3</th>\n",
       "      <th>4</th>\n",
       "    </tr>\n",
       "  </thead>\n",
       "  <tbody>\n",
       "    <tr>\n",
       "      <th>count</th>\n",
       "      <td>62313.000000</td>\n",
       "      <td>62313.000000</td>\n",
       "      <td>62313.000000</td>\n",
       "      <td>62313.000000</td>\n",
       "      <td>62313.0</td>\n",
       "    </tr>\n",
       "    <tr>\n",
       "      <th>mean</th>\n",
       "      <td>0.670199</td>\n",
       "      <td>0.200652</td>\n",
       "      <td>1.336665</td>\n",
       "      <td>2.019245</td>\n",
       "      <td>0.0</td>\n",
       "    </tr>\n",
       "    <tr>\n",
       "      <th>std</th>\n",
       "      <td>0.124016</td>\n",
       "      <td>0.338497</td>\n",
       "      <td>0.598708</td>\n",
       "      <td>0.585507</td>\n",
       "      <td>0.0</td>\n",
       "    </tr>\n",
       "    <tr>\n",
       "      <th>min</th>\n",
       "      <td>0.000000</td>\n",
       "      <td>0.000000</td>\n",
       "      <td>0.693147</td>\n",
       "      <td>1.098612</td>\n",
       "      <td>0.0</td>\n",
       "    </tr>\n",
       "    <tr>\n",
       "      <th>25%</th>\n",
       "      <td>0.693147</td>\n",
       "      <td>0.000000</td>\n",
       "      <td>0.693147</td>\n",
       "      <td>1.609438</td>\n",
       "      <td>0.0</td>\n",
       "    </tr>\n",
       "    <tr>\n",
       "      <th>50%</th>\n",
       "      <td>0.693147</td>\n",
       "      <td>0.000000</td>\n",
       "      <td>1.098612</td>\n",
       "      <td>1.945910</td>\n",
       "      <td>0.0</td>\n",
       "    </tr>\n",
       "    <tr>\n",
       "      <th>75%</th>\n",
       "      <td>0.693147</td>\n",
       "      <td>0.693147</td>\n",
       "      <td>1.791759</td>\n",
       "      <td>2.397895</td>\n",
       "      <td>0.0</td>\n",
       "    </tr>\n",
       "    <tr>\n",
       "      <th>max</th>\n",
       "      <td>0.693147</td>\n",
       "      <td>4.143135</td>\n",
       "      <td>5.043425</td>\n",
       "      <td>6.282267</td>\n",
       "      <td>0.0</td>\n",
       "    </tr>\n",
       "  </tbody>\n",
       "</table>\n",
       "</div>"
      ],
      "text/plain": [
       "                  0             1             2             3        4\n",
       "count  62313.000000  62313.000000  62313.000000  62313.000000  62313.0\n",
       "mean       0.670199      0.200652      1.336665      2.019245      0.0\n",
       "std        0.124016      0.338497      0.598708      0.585507      0.0\n",
       "min        0.000000      0.000000      0.693147      1.098612      0.0\n",
       "25%        0.693147      0.000000      0.693147      1.609438      0.0\n",
       "50%        0.693147      0.000000      1.098612      1.945910      0.0\n",
       "75%        0.693147      0.693147      1.791759      2.397895      0.0\n",
       "max        0.693147      4.143135      5.043425      6.282267      0.0"
      ]
     },
     "execution_count": 489,
     "metadata": {},
     "output_type": "execute_result"
    }
   ],
   "source": [
    "pd.DataFrame(train_counts_scaled).describe()"
   ]
  },
  {
   "cell_type": "code",
   "execution_count": null,
   "metadata": {
    "_uuid": "db390e3c77d2c7b947743a3c855cb9bd985b4475"
   },
   "outputs": [],
   "source": [
    "%%time\n",
    "test_counts, test_content_len = get_content_features(test_raw_contents)\n",
    "test_counts_scaled = np.log1p(test_counts)"
   ]
  },
  {
   "cell_type": "code",
   "execution_count": null,
   "metadata": {
    "_uuid": "4afc71a6e3a064a5569e0bc2516c69a00704b9f7",
    "scrolled": true
   },
   "outputs": [],
   "source": [
    "test_counts_scaled.shape"
   ]
  },
  {
   "cell_type": "code",
   "execution_count": null,
   "metadata": {},
   "outputs": [],
   "source": [
    "train['h1_counts'] = train_counts_scaled.T[0]\n",
    "train['h2_counts'] = train_counts_scaled.T[1]\n",
    "train['h3_counts'] = train_counts_scaled.T[2]\n",
    "train['img_counts'] = train_counts_scaled.T[3]\n",
    "train['href_counts'] = train_counts_scaled.T[4]\n",
    "train['is_content_short'] = train_content_len.T[0]\n",
    "train['is_content_medium'] = train_content_len.T[1]\n",
    "train['is_content_long'] = train_content_len.T[2]\n",
    "train['is_content_huge'] = train_content_len.T[3]"
   ]
  },
  {
   "cell_type": "code",
   "execution_count": null,
   "metadata": {},
   "outputs": [],
   "source": [
    "test['h1_counts'] = test_counts_scaled.T[0]\n",
    "test['h2_counts'] = test_counts_scaled.T[1]\n",
    "test['h3_counts'] = test_counts_scaled.T[2]\n",
    "test['img_counts'] = test_counts_scaled.T[3]\n",
    "test['href_counts'] = test_counts_scaled.T[4]\n",
    "test['is_content_short'] = test_content_len.T[0]\n",
    "test['is_content_medium'] = test_content_len.T[1]\n",
    "test['is_content_long'] = test_content_len.T[2]\n",
    "test['is_content_huge'] = test_content_len.T[3]"
   ]
  },
  {
   "cell_type": "code",
   "execution_count": null,
   "metadata": {
    "_uuid": "484ca2a633c385ee7e6920b35c6539583da50ff7"
   },
   "outputs": [],
   "source": [
    "train = train[train.year >= 2015]"
   ]
  },
  {
   "cell_type": "code",
   "execution_count": null,
   "metadata": {},
   "outputs": [],
   "source": [
    "train_counts_scaled = train.loc[:, ['h1_counts', 'h2_counts', 'h3_counts', 'img_counts']]\n",
    "train_content_len = train.loc[:, ['is_content_short', 'is_content_medium', 'is_content_long', 'is_content_huge']]\n",
    "train_counts_scaled = train_counts_scaled.values\n",
    "train_content_len = train_content_len.values"
   ]
  },
  {
   "cell_type": "code",
   "execution_count": null,
   "metadata": {},
   "outputs": [],
   "source": [
    "test_counts_scaled = test.loc[:, ['h1_counts', 'h2_counts', 'h3_counts', 'img_counts']]\n",
    "test_counts_scaled = test_counts_scaled.values"
   ]
  },
  {
   "cell_type": "code",
   "execution_count": null,
   "metadata": {
    "_uuid": "f7f405c96d21bd1e4e9f53ea43b14b9965f8fb8e"
   },
   "outputs": [],
   "source": [
    "class StemmingLemmatizingTokenizer(object):\n",
    "    \n",
    "    def __init__(self, stemmer=PorterStemmer, lemmatizer=WordNetLemmatizer):\n",
    "        self.stemmer = stemmer()\n",
    "        self.lemmatizer = lemmatizer()\n",
    "        \n",
    "    def __call__(self, doc):\n",
    "        # strings of punctuation signs and digits\n",
    "        from string import punctuation, digits\n",
    "        # some other unicode chars i found in the content\n",
    "        other_unicode_chars = '’’”“\\u200b'\n",
    "        chars_to_remove = ''.join((punctuation,\n",
    "                                   digits,\n",
    "                                   other_unicode_chars))\n",
    "        # getting rid of punctuation signs and digits\n",
    "        transtab = str.maketrans(chars_to_remove, ' '*len(chars_to_remove))\n",
    "        # goiinf through all tokens with 3 or more chars\n",
    "        # lemmatizing the verbs first, then stemming all words\n",
    "        return [self.stemmer.stem(self.lemmatizer.lemmatize(token, pos='v')) \n",
    "                for token in word_tokenize(doc.translate(transtab)) \n",
    "                if len(token) >= 3]"
   ]
  },
  {
   "cell_type": "code",
   "execution_count": null,
   "metadata": {
    "_uuid": "0fe1833d7133e07343fd021fa8a2f229c7564991"
   },
   "outputs": [],
   "source": [
    "from nltk.tokenize import word_tokenize\n",
    "from sklearn.feature_extraction import text \n",
    "stop_words = text.ENGLISH_STOP_WORDS\n",
    "temp = []\n",
    "s = StemmingLemmatizingTokenizer()\n",
    "for eggs in stop_words:\n",
    "    token = s(eggs)\n",
    "    if token:\n",
    "        temp += token\n",
    "stop_words = temp"
   ]
  },
  {
   "cell_type": "code",
   "execution_count": null,
   "metadata": {
    "_uuid": "5658f2f306ea66990a0c38ca68592d88f3ef7bc0"
   },
   "outputs": [],
   "source": [
    "title_vectorizer = TfidfVectorizer(ngram_range=(2, 3), \n",
    "                                   tokenizer=StemmingLemmatizingTokenizer(),\n",
    "                                   stop_words=stop_words,\n",
    "                                   max_features=100000)\n",
    "content_vectorizer = TfidfVectorizer(ngram_range=(1, 2),\n",
    "                                     tokenizer=StemmingLemmatizingTokenizer(),\n",
    "                                     stop_words=stop_words,\n",
    "                                     max_features=100000)\n",
    "tag_vectorizer = TfidfVectorizer(ngram_range=(1, 2), max_features=2000)"
   ]
  },
  {
   "cell_type": "code",
   "execution_count": 500,
   "metadata": {},
   "outputs": [],
   "source": [
    "#train_content_temp = list(train.content)\n",
    "#test_content_temp = list(test.content)"
   ]
  },
  {
   "cell_type": "code",
   "execution_count": 501,
   "metadata": {},
   "outputs": [
    {
     "name": "stdout",
     "output_type": "stream",
     "text": [
      "Wall time: 47min 14s\n"
     ]
    }
   ],
   "source": [
    "#%%time\n",
    "#Train_content_sparse = content_vectorizer.fit_transform(train_content_temp)\n",
    "#Test_content_sparse = content_vectorizer.transform(test_content_temp)"
   ]
  },
  {
   "cell_type": "code",
   "execution_count": null,
   "metadata": {
    "_uuid": "a160614504fa2d196be582dff25443b841fbe386"
   },
   "outputs": [],
   "source": [
    "train_titles = list(train.title)\n",
    "test_titles = list(test.title)"
   ]
  },
  {
   "cell_type": "code",
   "execution_count": null,
   "metadata": {
    "_uuid": "6c66355ba77988fda5fac7196a3617f9abfbe07c"
   },
   "outputs": [],
   "source": [
    "%%time\n",
    "Train_title_sparse = title_vectorizer.fit_transform(train_titles)\n",
    "Test_title_sparse = title_vectorizer.transform(test_titles)"
   ]
  },
  {
   "cell_type": "code",
   "execution_count": null,
   "metadata": {
    "_uuid": "7802d46f873bd23f76c22076b8ea58ff2b7d6bbf"
   },
   "outputs": [],
   "source": [
    "Train_title_sparse, Test_title_sparse"
   ]
  },
  {
   "cell_type": "code",
   "execution_count": null,
   "metadata": {
    "_uuid": "fc1d12dfc248c59af719918f86137cb862499855"
   },
   "outputs": [],
   "source": [
    "#%%time\n",
    "#train_content_sparse = content_vectorizer.fit_transform((strip_tags(content) \n",
    "#                                                   for content in train_raw_contents))"
   ]
  },
  {
   "cell_type": "code",
   "execution_count": null,
   "metadata": {
    "_uuid": "8d3132fa8e067486b61ac56c150464f1dfea4728"
   },
   "outputs": [],
   "source": [
    "#%%time\n",
    "#test_content_sparse = content_vectorizer.fit_transform((strip_tags(content) \n",
    "#                                                   for content in test_raw_contents))"
   ]
  },
  {
   "cell_type": "code",
   "execution_count": null,
   "metadata": {
    "_uuid": "15722284700e6d8efc62a1cf0b8c508f2539f72b"
   },
   "outputs": [],
   "source": [
    "train_tags = list(train.tags)\n",
    "test_tags = list(test.tags)"
   ]
  },
  {
   "cell_type": "code",
   "execution_count": null,
   "metadata": {
    "_uuid": "2b32bea1dccf05bd79bb11aa346c1d9e357069ee"
   },
   "outputs": [],
   "source": [
    "train_tags_sparse = tag_vectorizer.fit_transform(train_tags) \n",
    "test_tags_sparse = tag_vectorizer.transform(test_tags)"
   ]
  },
  {
   "cell_type": "code",
   "execution_count": null,
   "metadata": {
    "_uuid": "c5659c72bb4deed0b545f77e8a4a3ae116c98d0c"
   },
   "outputs": [],
   "source": [
    "train_tags_sparse.shape, test_tags_sparse.shape"
   ]
  },
  {
   "cell_type": "code",
   "execution_count": null,
   "metadata": {
    "_uuid": "2d23423cbe8666b20e3b51c76927fbeafb64122a"
   },
   "outputs": [],
   "source": [
    "train_times = train.loc[:, ['published', 'dow', 'year', 'month', 'hour']]\n",
    "test_times = test.loc[:, ['published', 'dow', 'year', 'month', 'hour']]"
   ]
  },
  {
   "cell_type": "code",
   "execution_count": null,
   "metadata": {
    "_uuid": "da301704f6225ec374b156020cc20072cf387d3e"
   },
   "outputs": [],
   "source": [
    "def add_time_features(df, X_sparse):\n",
    "    morning = ((df.hour >= 7) & (df.hour <= 11)).astype('int')\n",
    "    day = ((df.hour >= 12) & (df.hour <= 18)).astype('int')\n",
    "    evening = ((df.hour >= 19) & (df.hour <= 23)).astype('int')\n",
    "    night = ((df.hour >= 0) & (df.hour <= 6)).astype('int')\n",
    "    \n",
    "#    weekday = df['date'].apply(lambda ts: ts.weekday())\n",
    "    is_monday = (df.dow == 0).astype('int')\n",
    "    is_tuesday = (df.dow == 1).astype('int')\n",
    "    is_wednesday = (df.dow == 2).astype('int')\n",
    "    is_thursday = (df.dow == 3).astype('int')\n",
    "    is_friday = (df.dow == 4).astype('int')\n",
    "    is_weekend = (df.dow >= 5).astype('int')\n",
    "    \n",
    "    X = hstack([X_sparse,\n",
    "                morning.values.reshape(-1, 1), \n",
    "                day.values.reshape(-1, 1),\n",
    "                evening.values.reshape(-1, 1), \n",
    "                night.values.reshape(-1, 1),\n",
    "                is_monday.values.reshape(-1, 1),\n",
    "                is_tuesday.values.reshape(-1, 1),\n",
    "                is_wednesday.values.reshape(-1, 1),\n",
    "                is_thursday.values.reshape(-1, 1),\n",
    "                is_friday.values.reshape(-1, 1),\n",
    "                is_weekend.values.reshape(-1, 1)]).tocsr()\n",
    "    return X"
   ]
  },
  {
   "cell_type": "code",
   "execution_count": null,
   "metadata": {
    "_uuid": "af37a69eeba2a02454b83335f250729e92d1837d"
   },
   "outputs": [],
   "source": [
    "train_data = add_time_features(train_times, Train_title_sparse)\n",
    "test_data = add_time_features(test_times, Test_title_sparse)"
   ]
  },
  {
   "cell_type": "code",
   "execution_count": null,
   "metadata": {
    "_uuid": "77af491cf3a6a930bcd60ab3852643d1fa8d8b4b"
   },
   "outputs": [],
   "source": [
    "# create feature for title length\n",
    "train['title_length'] = train.title.apply(lambda x : len(x.split()))\n",
    "test['title_length'] = test.title.apply(lambda x : len(x.split()))"
   ]
  },
  {
   "cell_type": "code",
   "execution_count": null,
   "metadata": {},
   "outputs": [],
   "source": [
    "# create new dataframes for length features\n",
    "train_content_len = train.loc[:,['length']]\n",
    "test_content_len = test.loc[:,['length']]"
   ]
  },
  {
   "cell_type": "code",
   "execution_count": 178,
   "metadata": {
    "_uuid": "a05952b7cde37ffa134b6eb25f6649afd50f9541"
   },
   "outputs": [],
   "source": [
    "def get_content_features(df):\n",
    "    \n",
    "#    is_content_short = (df.length<1350).astype('int')\n",
    "#    is_content_medium = ((df.length>=1350) & (df.length<2700)).astype('int')\n",
    "#    is_content_long = ((df.length>=2700) & (df.length<6750)).astype('int')\n",
    "#    is_content_huge = (df.length>=6750).astype('int')\n",
    "    is_content_short = (df.length<30000).astype('int')\n",
    "    is_content_medium = ((df.length>=30000) & (df.length<46000)).astype('int')\n",
    "    is_content_long = ((df.length>=60000) & (df.length<80000)).astype('int')\n",
    "    is_content_huge = (df.length>=80000).astype('int')\n",
    "    length_types = np.hstack([is_content_short.values.reshape(-1, 1),\n",
    "                              is_content_medium.values.reshape(-1, 1),\n",
    "                              is_content_long.values.reshape(-1, 1),\n",
    "                              is_content_huge.values.reshape(-1, 1)])    \n",
    "    return length_types"
   ]
  },
  {
   "cell_type": "code",
   "execution_count": 181,
   "metadata": {
    "_uuid": "e3802eff2632f05efa2d85a29a37ba491e9dc363"
   },
   "outputs": [],
   "source": [
    "train_content_len = get_content_features(train_content_len)\n",
    "test_content_len = get_content_features(test_content_len)"
   ]
  },
  {
   "cell_type": "code",
   "execution_count": 182,
   "metadata": {
    "_uuid": "ee30e6284b545bbb5bec16ca2f1645330b1b2841"
   },
   "outputs": [
    {
     "data": {
      "text/plain": [
       "((57125, 4), (34645, 4))"
      ]
     },
     "execution_count": 182,
     "metadata": {},
     "output_type": "execute_result"
    }
   ],
   "source": [
    "train_content_len.shape, test_content_len.shape"
   ]
  },
  {
   "cell_type": "code",
   "execution_count": null,
   "metadata": {},
   "outputs": [],
   "source": [
    "train['title_length'].describe(percentiles = [0.1,0.25,0.5,0.75,0.9,0.95,0.99])"
   ]
  },
  {
   "cell_type": "code",
   "execution_count": null,
   "metadata": {
    "_uuid": "85dd9e98345cb677e0ab574ad3f1b407b6fb1544"
   },
   "outputs": [],
   "source": [
    "train_title_len = train.loc[:,['title_length']]\n",
    "test_title_len = test.loc[:,['title_length']]"
   ]
  },
  {
   "cell_type": "code",
   "execution_count": null,
   "metadata": {
    "_uuid": "c6f5c3343bf44bd8082e5d694d0f2ae793ffc210"
   },
   "outputs": [],
   "source": [
    "def get_title_length(df):\n",
    "    is_title_short = (df.title_length <6).astype('int')\n",
    "    is_title_medium = ((df.title_length>=6) & (df.title_length<11)).astype('int')\n",
    "    is_title_long = ((df.title_length>=11) & (df.title_length<18)).astype('int')\n",
    "    is_title_huge = (df.title_length>=20).astype('int')\n",
    "    length_types = np.hstack([is_title_short.values.reshape(-1, 1),\n",
    "                              is_title_medium.values.reshape(-1, 1),\n",
    "                              is_title_long.values.reshape(-1, 1),\n",
    "                              is_title_huge.values.reshape(-1, 1) ])    \n",
    "    return length_types"
   ]
  },
  {
   "cell_type": "code",
   "execution_count": null,
   "metadata": {
    "_uuid": "9b3b8c1d494beb92d6f7901518c7db0f87ed3944"
   },
   "outputs": [],
   "source": [
    "train_title_len = get_title_length(train_title_len)\n",
    "test_title_len = get_title_length(test_title_len)"
   ]
  },
  {
   "cell_type": "code",
   "execution_count": null,
   "metadata": {
    "_uuid": "32023753315d360d52c1ed8cdcb7f9fb91a23d13"
   },
   "outputs": [],
   "source": [
    "train_title_len.shape, test_title_len.shape"
   ]
  },
  {
   "cell_type": "code",
   "execution_count": null,
   "metadata": {
    "_uuid": "f8808b274d800718df581efd3fbe6d68d3f8dc48"
   },
   "outputs": [],
   "source": [
    "author_vectorizer = CountVectorizer(max_features=25000)\n",
    "train_author = list(train.author)\n",
    "test_author = list(test.author)\n",
    "train_author_sparse = author_vectorizer.fit_transform(train_author)\n",
    "test_author_sparse = author_vectorizer.transform(test_author)"
   ]
  },
  {
   "cell_type": "code",
   "execution_count": null,
   "metadata": {},
   "outputs": [],
   "source": [
    "train_author_sparse.shape, test_author_sparse.shape"
   ]
  },
  {
   "cell_type": "code",
   "execution_count": null,
   "metadata": {
    "_uuid": "a99cf3154082caa075eac4bfb5456be76ef3e1ff"
   },
   "outputs": [],
   "source": [
    "domain_vectorizer = CountVectorizer(max_features=100)\n",
    "train_domain = list(train.domain)\n",
    "test_domain = list(test.domain)\n",
    "train_domain_sparse = domain_vectorizer.fit_transform(train_domain)\n",
    "test_domain_sparse = domain_vectorizer.transform(test_domain)"
   ]
  },
  {
   "cell_type": "code",
   "execution_count": null,
   "metadata": {
    "_uuid": "f3ca774267bfb8066742dbabf0b51b430792c0ee"
   },
   "outputs": [],
   "source": [
    "train_domain_sparse.shape, test_domain_sparse.shape"
   ]
  },
  {
   "cell_type": "code",
   "execution_count": null,
   "metadata": {
    "_uuid": "cb4b84509ecef0796731ea3d4f5e27d657f5d5b0"
   },
   "outputs": [],
   "source": [
    "#train_month = pd.get_dummies(train['month'], columns = ['month'], prefix= 'month', sparse=True)\n",
    "#test_month = pd.get_dummies(test['month'], columns = ['month'], prefix= 'month', sparse=True)"
   ]
  },
  {
   "cell_type": "code",
   "execution_count": null,
   "metadata": {
    "_uuid": "2de596eaaea5885d0fe707b2ecf1835cac643731"
   },
   "outputs": [],
   "source": [
    "#train_month_sparse = train_month.values\n",
    "#test_month_sparse = test_month.values"
   ]
  },
  {
   "cell_type": "code",
   "execution_count": null,
   "metadata": {},
   "outputs": [],
   "source": [
    "train_hour = pd.get_dummies(train['hour'], columns = ['hour'], prefix= 'hour', sparse=True)\n",
    "test_hour = pd.get_dummies(test['hour'], columns = ['hour'], prefix= 'hour', sparse=True)"
   ]
  },
  {
   "cell_type": "code",
   "execution_count": null,
   "metadata": {},
   "outputs": [],
   "source": [
    "train_hour_sparse = train_hour.values\n",
    "test_hour_sparse = test_hour.values"
   ]
  },
  {
   "cell_type": "code",
   "execution_count": null,
   "metadata": {
    "_uuid": "9d0f4d5992d7d265cdd8e560b0be844d0d327e06"
   },
   "outputs": [],
   "source": [
    "counts_scaler = StandardScaler()\n",
    "#train_tag_count = list(train.number_of_tags)\n",
    "#test_tag_count = list(test.number_of_tags)\n",
    "train_tag_count_scaled = counts_scaler.fit_transform(np.array(train.number_of_tags).reshape(-1, 1))\n",
    "test_tag_count_scaled = counts_scaler.transform(np.array(test.number_of_tags).reshape(-1, 1))"
   ]
  },
  {
   "cell_type": "code",
   "execution_count": null,
   "metadata": {
    "_uuid": "1d2b706e59cdb7b74da64ee85fb46507899cb201"
   },
   "outputs": [],
   "source": [
    "train_readtime_scaled = np.array(np.log1p(train.reading_time)).reshape(-1, 1)\n",
    "test_readtime_scaled = np.array(np.log1p(test.reading_time)).reshape(-1, 1)"
   ]
  },
  {
   "cell_type": "code",
   "execution_count": null,
   "metadata": {
    "_uuid": "b20d35bbfe31af3c48fc4ae3fd02e7abfe5ed3dc"
   },
   "outputs": [],
   "source": [
    "train_tag_count_scaled.shape, test_tag_count_scaled.shape"
   ]
  },
  {
   "cell_type": "code",
   "execution_count": null,
   "metadata": {
    "_uuid": "2d4d1159e81ce3222d4c908066e318f04d6a84db"
   },
   "outputs": [],
   "source": [
    "type(test_tag_count_scaled)"
   ]
  },
  {
   "cell_type": "code",
   "execution_count": 535,
   "metadata": {},
   "outputs": [
    {
     "name": "stdout",
     "output_type": "stream",
     "text": [
      "(57125, 100010)\n",
      "(57125, 2000)\n",
      "(57125, 4)\n",
      "(57125, 4)\n",
      "(57125, 25000)\n",
      "(57125, 100)\n",
      "(57125, 4)\n",
      "(57125, 24)\n",
      "(57125, 1)\n",
      "(57125, 1)\n",
      "(57125, 100000)\n"
     ]
    }
   ],
   "source": [
    "print(train_data.shape),\n",
    "print(train_tags_sparse.shape),\n",
    "print(train_content_len.shape),\n",
    "print(train_title_len.shape),\n",
    "print(train_author_sparse.shape),\n",
    "print(train_domain_sparse.shape),\n",
    "print(train_counts_scaled.shape),\n",
    "print(train_hour_sparse.shape),\n",
    "#  train_month_sparse,\n",
    "print(train_readtime_scaled.shape),\n",
    "print(train_tag_count_scaled.shape),\n",
    "print(Train_content_sparse.shape)"
   ]
  },
  {
   "cell_type": "code",
   "execution_count": 536,
   "metadata": {},
   "outputs": [
    {
     "name": "stdout",
     "output_type": "stream",
     "text": [
      "(34645, 100010)\n",
      "(34645, 2000)\n",
      "(34645, 4)\n",
      "(34645, 4)\n",
      "(34645, 25000)\n",
      "(34645, 100)\n",
      "(34645, 4)\n",
      "(34645, 24)\n",
      "(34645, 1)\n",
      "(34645, 1)\n",
      "(34645, 100000)\n"
     ]
    }
   ],
   "source": [
    "print(test_data.shape),\n",
    "print(test_tags_sparse.shape),\n",
    "print(test_content_len.shape),\n",
    "print(test_title_len.shape),\n",
    "print(test_author_sparse.shape),\n",
    "print(test_domain_sparse.shape),\n",
    "print(test_counts_scaled.shape),\n",
    "print(test_hour_sparse.shape),\n",
    "#print(test_month_sparse.shape),\n",
    "print(test_readtime_scaled.shape),\n",
    "print(test_tag_count_scaled.shape)\n",
    "print(Test_content_sparse.shape)"
   ]
  },
  {
   "cell_type": "code",
   "execution_count": 537,
   "metadata": {
    "_uuid": "ca39e6e5f6f6061308270e33f8567483a41cb824"
   },
   "outputs": [],
   "source": [
    "train_data_final = hstack([train_data,\n",
    "                           Train_content_sparse,\n",
    "                           train_tags_sparse,\n",
    "                           train_content_len,\n",
    "                           train_title_len,\n",
    "                           train_author_sparse,\n",
    "                           train_domain_sparse,\n",
    "                           train_counts_scaled,\n",
    "                           train_hour_sparse,\n",
    "#                           train_month_sparse,\n",
    "                           train_readtime_scaled,\n",
    "                           train_tag_count_scaled]).tocsr()"
   ]
  },
  {
   "cell_type": "code",
   "execution_count": 538,
   "metadata": {
    "_uuid": "8e86c600a069ea6b95ce8ceeec80f170069b4629"
   },
   "outputs": [],
   "source": [
    "test_data_final = hstack([test_data,\n",
    "                          Test_content_sparse,\n",
    "                          test_tags_sparse,\n",
    "                          test_content_len,\n",
    "                          test_title_len,\n",
    "                          test_author_sparse,\n",
    "                          test_domain_sparse,\n",
    "                          test_counts_scaled,\n",
    "                          test_hour_sparse,\n",
    "#                          test_month_sparse,\n",
    "                          test_readtime_scaled,\n",
    "                          test_tag_count_scaled]).tocsr()"
   ]
  },
  {
   "cell_type": "code",
   "execution_count": 539,
   "metadata": {
    "_uuid": "2b555d223ce18e399a883bc98ca2c8b2e212034a"
   },
   "outputs": [
    {
     "data": {
      "text/plain": [
       "<57125x227148 sparse matrix of type '<class 'numpy.float64'>'\n",
       "\twith 30436292 stored elements in Compressed Sparse Row format>"
      ]
     },
     "execution_count": 539,
     "metadata": {},
     "output_type": "execute_result"
    }
   ],
   "source": [
    "train_data_final"
   ]
  },
  {
   "cell_type": "code",
   "execution_count": 540,
   "metadata": {
    "_uuid": "81e5e848184fdd811a3c5b43f8bbaa3d387ea5e7"
   },
   "outputs": [
    {
     "data": {
      "text/plain": [
       "<34645x227148 sparse matrix of type '<class 'numpy.float64'>'\n",
       "\twith 17339695 stored elements in Compressed Sparse Row format>"
      ]
     },
     "execution_count": 540,
     "metadata": {},
     "output_type": "execute_result"
    }
   ],
   "source": [
    "test_data_final"
   ]
  },
  {
   "cell_type": "code",
   "execution_count": 541,
   "metadata": {
    "_uuid": "44cace6fd857a83f52f32388949b3f787bd7e0de"
   },
   "outputs": [],
   "source": [
    "train_target = train['target'].values"
   ]
  },
  {
   "cell_type": "code",
   "execution_count": 542,
   "metadata": {
    "_uuid": "ee310f8e8144f53878b698f68dc87c65f4a4bb35"
   },
   "outputs": [
    {
     "name": "stdout",
     "output_type": "stream",
     "text": [
      "1.1516384148176801 2.163371580997529\n",
      "Wall time: 31.3 s\n"
     ]
    }
   ],
   "source": [
    "%%time\n",
    "ridge = Ridge(random_state=17)\n",
    "X_train, X_valid, y_train, y_valid = train_test_split(train_data_final, train_target, train_size=0.7, test_size=0.3, random_state=17)\n",
    "ridge.fit(X_train, np.log1p(y_train));\n",
    "ridge_pred = np.expm1(ridge.predict(X_valid))\n",
    "#plt.hist(y_test, bins=30, alpha=.5, color='red',\n",
    "#         label='true values', range=(0,10));\n",
    "#plt.hist(ridge_pred, bins=30, alpha=.5, color='green',\n",
    "#         label='predicted values', range=(0,10));\n",
    "#plt.legend();\n",
    "valid_mae = mean_absolute_error(y_valid, ridge_pred)\n",
    "print(valid_mae, np.expm1(valid_mae))"
   ]
  },
  {
   "cell_type": "code",
   "execution_count": 404,
   "metadata": {
    "_uuid": "9582ccd5acf32611cf07af4957b6884c0ad08ed4"
   },
   "outputs": [
    {
     "name": "stdout",
     "output_type": "stream",
     "text": [
      "alpha:  1.0\n",
      "1.1219583553434582 2.0708621578337603\n",
      "Wall time: 2min 12s\n"
     ]
    }
   ],
   "source": [
    "%%time\n",
    "alphas = (0.005, 0.01, 0.5, 0.25, 0.1, 1)\n",
    "ridgeCV = RidgeCV(alphas=alphas, cv=5, gcv_mode='auto',\n",
    "                scoring='neg_mean_absolute_error')\n",
    "#ridge.fit(train_data_final, np.log1p(train_target));\n",
    "#print('alpha: ', ridge.alpha_) # i'm just curious what it would be\n",
    "ridgeCV.fit(X_train, np.log1p(y_train));\n",
    "ridgecv_valid_pred = np.expm1(ridgeCV.predict(X_valid))\n",
    "print('alpha: ', ridgeCV.alpha_)\n",
    "valid_mae = mean_absolute_error(y_valid, ridgecv_valid_pred)\n",
    "print(valid_mae, np.expm1(valid_mae))"
   ]
  },
  {
   "cell_type": "code",
   "execution_count": 543,
   "metadata": {
    "_uuid": "9058f110bfcf3c81d9fd149bcdb04ec35befcacd"
   },
   "outputs": [],
   "source": [
    "lgb_x_train_part = lgb.Dataset(X_train.astype(np.float32), \n",
    "                           label=np.log1p(y_train))"
   ]
  },
  {
   "cell_type": "code",
   "execution_count": null,
   "metadata": {
    "_uuid": "5491d8c474919d8af3d8daf8c61e52cc58a58712"
   },
   "outputs": [],
   "source": [
    "lgb_x_valid = lgb.Dataset(X_valid.astype(np.float32), \n",
    "                      label=np.log1p(y_valid))"
   ]
  },
  {
   "cell_type": "code",
   "execution_count": null,
   "metadata": {
    "_uuid": "859f661031dc50d10032e0f20a3d9f1419adc086"
   },
   "outputs": [],
   "source": [
    "param = {'num_leaves': 255, \n",
    "         'objective': 'mean_absolute_error',\n",
    "         'metric': 'mae'}"
   ]
  },
  {
   "cell_type": "code",
   "execution_count": null,
   "metadata": {
    "_uuid": "f957e28211c162dd8f4b02305c974cbb0375c325",
    "scrolled": true
   },
   "outputs": [],
   "source": [
    "num_round = 200\n",
    "bst_lgb = lgb.train(param, lgb_x_train_part, num_round, \n",
    "                    valid_sets=[lgb_x_valid], early_stopping_rounds=20)"
   ]
  },
  {
   "cell_type": "code",
   "execution_count": null,
   "metadata": {
    "_uuid": "072c577d7a804f703bca2151fe9ded37caee8a34"
   },
   "outputs": [],
   "source": [
    "lgb_pred = np.expm1(bst_lgb.predict(X_valid.astype(np.float32), \n",
    "                                    num_iteration=bst_lgb.best_iteration))"
   ]
  },
  {
   "cell_type": "code",
   "execution_count": null,
   "metadata": {
    "_uuid": "6333d52351056f4029f723b81fd9a1cdbe0675a5",
    "scrolled": true
   },
   "outputs": [],
   "source": [
    "valid_mae = mean_absolute_error(y_valid, lgb_pred)\n",
    "print(valid_mae, np.expm1(valid_mae))"
   ]
  },
  {
   "cell_type": "code",
   "execution_count": null,
   "metadata": {
    "_uuid": "e38bf276ee735e38166480612948746e4173cf38"
   },
   "outputs": [],
   "source": [
    "plt.hist(y_valid, bins=30, alpha=.5, color='red', label='true', range=(0,10));\n",
    "plt.hist(ridge_pred, bins=30, alpha=.5, color='green', label='Ridge', range=(0,10));\n",
    "plt.hist(lgb_pred, bins=30, alpha=.5, color='blue', label='Lgbm', range=(0,10));\n",
    "plt.legend();"
   ]
  },
  {
   "cell_type": "code",
   "execution_count": null,
   "metadata": {
    "_uuid": "c8a6901ec9e935f1025fd4a5113fd919e4e93a93"
   },
   "outputs": [],
   "source": [
    "mean_absolute_error(y_valid, .4 * lgb_pred + .6 * ridge_pred)"
   ]
  },
  {
   "cell_type": "code",
   "execution_count": 413,
   "metadata": {
    "_uuid": "25e487e9a7b3bb919e8396c5ffd424fe45a3cc70"
   },
   "outputs": [
    {
     "name": "stdout",
     "output_type": "stream",
     "text": [
      "Wall time: 4.16 s\n"
     ]
    },
    {
     "data": {
      "text/plain": [
       "Ridge(alpha=1.0, copy_X=True, fit_intercept=True, max_iter=None,\n",
       "   normalize=False, random_state=17, solver='auto', tol=0.001)"
      ]
     },
     "execution_count": 413,
     "metadata": {},
     "output_type": "execute_result"
    }
   ],
   "source": [
    "%%time\n",
    "ridge.fit(train_data_final, np.log1p(train_target));"
   ]
  },
  {
   "cell_type": "code",
   "execution_count": 414,
   "metadata": {
    "_uuid": "d6b0aecaae7a6bbb627a7a55356e95e18af291a3"
   },
   "outputs": [],
   "source": [
    "ridge_test_pred = np.expm1(ridge.predict(test_data_final))"
   ]
  },
  {
   "cell_type": "code",
   "execution_count": 415,
   "metadata": {
    "_uuid": "9cc67716219ac722ecec9297012f062c0adee750"
   },
   "outputs": [
    {
     "name": "stdout",
     "output_type": "stream",
     "text": [
      "Wall time: 4min 16s\n"
     ]
    },
    {
     "data": {
      "text/plain": [
       "RidgeCV(alphas=array([0.005, 0.01 , 0.5  , 0.25 , 0.1  , 1.   ]), cv=5,\n",
       "    fit_intercept=True, gcv_mode='auto', normalize=False,\n",
       "    scoring='neg_mean_absolute_error', store_cv_values=False)"
      ]
     },
     "execution_count": 415,
     "metadata": {},
     "output_type": "execute_result"
    }
   ],
   "source": [
    "%%time\n",
    "ridgeCV.fit(train_data_final, np.log1p(train_target));"
   ]
  },
  {
   "cell_type": "code",
   "execution_count": 416,
   "metadata": {
    "_uuid": "716fba2b10cdaa4c80a864465a7c14235e6ba0e5"
   },
   "outputs": [],
   "source": [
    "ridgeCV_test_pred = np.expm1(ridgeCV.predict(test_data_final))"
   ]
  },
  {
   "cell_type": "code",
   "execution_count": 417,
   "metadata": {
    "_uuid": "26b79b685498bf0c0483c8ac6daaec2a2bd0f195"
   },
   "outputs": [],
   "source": [
    "lgb_x_train = lgb.Dataset(train_data_final.astype(np.float32),\n",
    "                          label=np.log1p(train_target))"
   ]
  },
  {
   "cell_type": "code",
   "execution_count": 418,
   "metadata": {
    "_uuid": "ebf75ca15680b8325c0901f972e0996c07b14c8c"
   },
   "outputs": [],
   "source": [
    "num_round = 60\n",
    "bst_lgb = lgb.train(param, lgb_x_train, num_round)"
   ]
  },
  {
   "cell_type": "code",
   "execution_count": 419,
   "metadata": {
    "_uuid": "f8c8b1c7fb29fbc460f09c7945e14a3187bbac10"
   },
   "outputs": [],
   "source": [
    "lgb_test_pred = np.expm1(bst_lgb.predict(test_data_final.astype(np.float32)))"
   ]
  },
  {
   "cell_type": "code",
   "execution_count": 420,
   "metadata": {
    "_uuid": "1284c6278b4f7f995c21906a7b6e498aa00b9d7f"
   },
   "outputs": [],
   "source": [
    "mix_pred_ridge_lgb = .4 * lgb_test_pred + .6 * ridge_test_pred"
   ]
  },
  {
   "cell_type": "code",
   "execution_count": 421,
   "metadata": {
    "_uuid": "f91af6c21292828b7121afbc9eb046cc2eeea37c"
   },
   "outputs": [],
   "source": [
    "mix_pred_ridgeCV_lgb = .4 * lgb_test_pred + .6 * ridgeCV_test_pred"
   ]
  },
  {
   "cell_type": "code",
   "execution_count": 422,
   "metadata": {
    "_uuid": "7b2bce19320c9c3751fd880bda8a3359f74974a4"
   },
   "outputs": [],
   "source": [
    "def write_submission_file(prediction, filename,\n",
    "                          path_to_sample='sample_submission.csv'):\n",
    "    submission = pd.read_csv(path_to_sample, index_col='id')\n",
    "    \n",
    "    submission['log_recommends'] = prediction\n",
    "    submission.to_csv(filename)"
   ]
  },
  {
   "cell_type": "code",
   "execution_count": 423,
   "metadata": {
    "_uuid": "01d01874cb0ec57f3c579454b4d54baea3c8aafc",
    "scrolled": true
   },
   "outputs": [],
   "source": [
    "write_submission_file(mix_pred_ridge_lgb, 'submission_ridge_lgb.csv')\n",
    "write_submission_file(mix_pred_ridgeCV_lgb, 'submission_ridgeCV_lgb.csv')"
   ]
  },
  {
   "cell_type": "code",
   "execution_count": 424,
   "metadata": {},
   "outputs": [],
   "source": [
    "mean_test_target = 4.33328\n",
    "mix_pred_ridge_lgb_modif = mix_pred_ridge_lgb + mean_test_target - train_target.mean()\n",
    "mix_pred_ridgeCV_lgb_modif = mix_pred_ridgeCV_lgb + mean_test_target - train_target.mean()"
   ]
  },
  {
   "cell_type": "code",
   "execution_count": 425,
   "metadata": {
    "_uuid": "c65b76e41e00e825927bbb5d229f0aa360340cd4"
   },
   "outputs": [],
   "source": [
    "#Only ridge without lgb \n",
    "mean_test_target = 4.33328\n",
    "mix_pred_ridge_modif = ridge_test_pred + mean_test_target - train_target.mean()\n",
    "mix_pred_ridgeCV_modif = ridgeCV_test_pred + mean_test_target - train_target.mean()"
   ]
  },
  {
   "cell_type": "code",
   "execution_count": 426,
   "metadata": {
    "_uuid": "2be1eccde851866f44977324c074449394f35751"
   },
   "outputs": [],
   "source": [
    "write_submission_file(mix_pred_ridge_lgb_modif, 'submission_ridge_lgb_modi.csv')\n",
    "write_submission_file(mix_pred_ridgeCV_lgb_modif, 'submission_ridgeCV_lgb_modi.csv')"
   ]
  },
  {
   "cell_type": "code",
   "execution_count": 212,
   "metadata": {},
   "outputs": [],
   "source": [
    "write_submission_file(mix_pred_ridge_modif, 'submission_ridge_modi.csv')\n",
    "write_submission_file(mix_pred_ridgeCV_modif, 'submission_ridgeCV_modi.csv')"
   ]
  },
  {
   "cell_type": "code",
   "execution_count": 88,
   "metadata": {},
   "outputs": [],
   "source": [
    "mix_pred_ridgeCV_lgb_37 = .3 * lgb_test_pred + .7 * ridgeCV_test_pred\n",
    "mix_pred_ridgeCV_lgb_modif_37 = mix_pred_ridgeCV_lgb_37 + mean_test_target - train_target.mean()\n",
    "write_submission_file(mix_pred_ridgeCV_lgb_modif_37, 'submission_ridgeCV_lgb_modi_37.csv')"
   ]
  }
 ],
 "metadata": {
  "kernelspec": {
   "display_name": "Python 3",
   "language": "python",
   "name": "python3"
  },
  "language_info": {
   "codemirror_mode": {
    "name": "ipython",
    "version": 3
   },
   "file_extension": ".py",
   "mimetype": "text/x-python",
   "name": "python",
   "nbconvert_exporter": "python",
   "pygments_lexer": "ipython3",
   "version": "3.7.1"
  }
 },
 "nbformat": 4,
 "nbformat_minor": 1
}
